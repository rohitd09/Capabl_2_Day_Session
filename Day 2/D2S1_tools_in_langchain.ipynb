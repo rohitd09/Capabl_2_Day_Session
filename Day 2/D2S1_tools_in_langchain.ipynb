{
  "cells": [
    {
      "cell_type": "markdown",
      "metadata": {
        "id": "j-sfDA74PyeA"
      },
      "source": [
        "# LangChain Tools Tutorial\n",
        "\n",
        "This notebook demonstrates how to work with tools in LangChain, including built-in tools and creating custom tools. We'll cover:\n",
        "\n",
        "1. **Built-in Tools**: DuckDuckGo Search and Shell tools\n",
        "2. **Custom Tools**: Three different methods to create custom tools\n",
        "3. **Toolkits**: Organizing multiple tools together\n",
        "\n",
        "Let's start by installing the required packages.\n"
      ]
    },
    {
      "cell_type": "markdown",
      "metadata": {
        "id": "OGfuJ3jBPyeD"
      },
      "source": [
        "## Package Installation\n",
        "\n",
        "First, we need to install the required LangChain packages and dependencies. This includes:\n",
        "- `langchain`: Core LangChain framework\n",
        "- `langchain-core`: Core abstractions and interfaces\n",
        "- `langchain-community`: Community-contributed tools and integrations\n",
        "- `pydantic`: Data validation and settings management\n",
        "- `duckduckgo-search`: Search functionality\n",
        "- `langchain_experimental`: Experimental features and tools\n"
      ]
    },
    {
      "cell_type": "code",
      "execution_count": 1,
      "metadata": {
        "colab": {
          "base_uri": "https://localhost:8080/"
        },
        "id": "rJdEXvveKlw_",
        "outputId": "1b734df2-5d32-419a-f633-765e2c4d4d4d"
      },
      "outputs": [
        {
          "output_type": "stream",
          "name": "stdout",
          "text": [
            "\u001b[2K   \u001b[90m━━━━━━━━━━━━━━━━━━━━━━━━━━━━━━━━━━━━━━━━\u001b[0m \u001b[32m2.5/2.5 MB\u001b[0m \u001b[31m30.4 MB/s\u001b[0m eta \u001b[36m0:00:00\u001b[0m\n",
            "\u001b[2K   \u001b[90m━━━━━━━━━━━━━━━━━━━━━━━━━━━━━━━━━━━━━━━━\u001b[0m \u001b[32m209.2/209.2 kB\u001b[0m \u001b[31m15.6 MB/s\u001b[0m eta \u001b[36m0:00:00\u001b[0m\n",
            "\u001b[2K   \u001b[90m━━━━━━━━━━━━━━━━━━━━━━━━━━━━━━━━━━━━━━━━\u001b[0m \u001b[32m41.6/41.6 kB\u001b[0m \u001b[31m2.8 MB/s\u001b[0m eta \u001b[36m0:00:00\u001b[0m\n",
            "\u001b[2K   \u001b[90m━━━━━━━━━━━━━━━━━━━━━━━━━━━━━━━━━━━━━━━━\u001b[0m \u001b[32m5.3/5.3 MB\u001b[0m \u001b[31m81.9 MB/s\u001b[0m eta \u001b[36m0:00:00\u001b[0m\n",
            "\u001b[2K   \u001b[90m━━━━━━━━━━━━━━━━━━━━━━━━━━━━━━━━━━━━━━━━\u001b[0m \u001b[32m3.3/3.3 MB\u001b[0m \u001b[31m65.7 MB/s\u001b[0m eta \u001b[36m0:00:00\u001b[0m\n",
            "\u001b[2K   \u001b[90m━━━━━━━━━━━━━━━━━━━━━━━━━━━━━━━━━━━━━━━━\u001b[0m \u001b[32m64.7/64.7 kB\u001b[0m \u001b[31m5.0 MB/s\u001b[0m eta \u001b[36m0:00:00\u001b[0m\n",
            "\u001b[2K   \u001b[90m━━━━━━━━━━━━━━━━━━━━━━━━━━━━━━━━━━━━━━━━\u001b[0m \u001b[32m50.9/50.9 kB\u001b[0m \u001b[31m3.0 MB/s\u001b[0m eta \u001b[36m0:00:00\u001b[0m\n",
            "\u001b[?25h\u001b[31mERROR: pip's dependency resolver does not currently take into account all the packages that are installed. This behaviour is the source of the following dependency conflicts.\n",
            "google-colab 1.0.0 requires requests==2.32.4, but you have requests 2.32.5 which is incompatible.\u001b[0m\u001b[31m\n",
            "\u001b[0m"
          ]
        }
      ],
      "source": [
        "!pip install -q langchain==0.3.27 langchain-core==0.3.79 langchain-community==0.3.31 pydantic==2.11.10 duckduckgo-search==8.1.1 langchain_experimental==0.3.4 ddgs==9.6.1"
      ]
    },
    {
      "cell_type": "code",
      "source": [
        "!pip show langchain langchain-core langchain-community pydantic duckduckgo-search langchain_experimental ddgs"
      ],
      "metadata": {
        "colab": {
          "base_uri": "https://localhost:8080/"
        },
        "id": "1p_eVWXDpLgp",
        "outputId": "f811e192-c115-4b1e-ce03-e3706c4b993c"
      },
      "execution_count": 2,
      "outputs": [
        {
          "output_type": "stream",
          "name": "stdout",
          "text": [
            "Name: langchain\n",
            "Version: 0.3.27\n",
            "Summary: Building applications with LLMs through composability\n",
            "Home-page: \n",
            "Author: \n",
            "Author-email: \n",
            "License: MIT\n",
            "Location: /usr/local/lib/python3.12/dist-packages\n",
            "Requires: langchain-core, langchain-text-splitters, langsmith, pydantic, PyYAML, requests, SQLAlchemy\n",
            "Required-by: langchain-community\n",
            "---\n",
            "Name: langchain-core\n",
            "Version: 0.3.79\n",
            "Summary: Building applications with LLMs through composability\n",
            "Home-page: \n",
            "Author: \n",
            "Author-email: \n",
            "License: MIT\n",
            "Location: /usr/local/lib/python3.12/dist-packages\n",
            "Requires: jsonpatch, langsmith, packaging, pydantic, PyYAML, tenacity, typing-extensions\n",
            "Required-by: langchain, langchain-community, langchain-experimental, langchain-text-splitters\n",
            "---\n",
            "Name: langchain-community\n",
            "Version: 0.3.31\n",
            "Summary: Community contributed LangChain integrations.\n",
            "Home-page: \n",
            "Author: \n",
            "Author-email: \n",
            "License: MIT\n",
            "Location: /usr/local/lib/python3.12/dist-packages\n",
            "Requires: aiohttp, dataclasses-json, httpx-sse, langchain, langchain-core, langsmith, numpy, pydantic-settings, PyYAML, requests, SQLAlchemy, tenacity\n",
            "Required-by: langchain-experimental\n",
            "---\n",
            "Name: pydantic\n",
            "Version: 2.11.10\n",
            "Summary: Data validation using Python type hints\n",
            "Home-page: https://github.com/pydantic/pydantic\n",
            "Author: \n",
            "Author-email: Samuel Colvin <s@muelcolvin.com>, Eric Jolibois <em.jolibois@gmail.com>, Hasan Ramezani <hasan.r67@gmail.com>, Adrian Garcia Badaracco <1755071+adriangb@users.noreply.github.com>, Terrence Dorsey <terry@pydantic.dev>, David Montague <david@pydantic.dev>, Serge Matveenko <lig@countzero.co>, Marcelo Trylesinski <marcelotryle@gmail.com>, Sydney Runkle <sydneymarierunkle@gmail.com>, David Hewitt <mail@davidhewitt.io>, Alex Hall <alex.mojaki@gmail.com>, Victorien Plot <contact@vctrn.dev>\n",
            "License: \n",
            "Location: /usr/local/lib/python3.12/dist-packages\n",
            "Requires: annotated-types, pydantic-core, typing-extensions, typing-inspection\n",
            "Required-by: albumentations, confection, fastapi, google-adk, google-cloud-aiplatform, google-genai, google-generativeai, gradio, langchain, langchain-core, langsmith, mcp, openai, pydantic-settings, spacy, thinc, wandb, weasel\n",
            "---\n",
            "Name: duckduckgo_search\n",
            "Version: 8.1.1\n",
            "Summary: Search for words, documents, images, news, maps and text translation using the DuckDuckGo.com search engine.\n",
            "Home-page: https://github.com/deedy5/duckduckgo_search\n",
            "Author: deedy5\n",
            "Author-email: \n",
            "License: MIT License\n",
            "Location: /usr/local/lib/python3.12/dist-packages\n",
            "Requires: click, lxml, primp\n",
            "Required-by: \n",
            "---\n",
            "Name: langchain-experimental\n",
            "Version: 0.3.4\n",
            "Summary: Building applications with LLMs through composability\n",
            "Home-page: https://github.com/langchain-ai/langchain-experimental\n",
            "Author: \n",
            "Author-email: \n",
            "License: MIT\n",
            "Location: /usr/local/lib/python3.12/dist-packages\n",
            "Requires: langchain-community, langchain-core\n",
            "Required-by: \n",
            "---\n",
            "Name: ddgs\n",
            "Version: 9.6.1\n",
            "Summary: Dux Distributed Global Search. A metasearch library that aggregates results from diverse web search services.\n",
            "Home-page: https://github.com/deedy5/ddgs\n",
            "Author: deedy5\n",
            "Author-email: \n",
            "License: MIT License\n",
            "Location: /usr/local/lib/python3.12/dist-packages\n",
            "Requires: click, httpx, lxml, primp\n",
            "Required-by: \n"
          ]
        }
      ]
    },
    {
      "cell_type": "markdown",
      "metadata": {
        "id": "RGVOzFTqLfOf"
      },
      "source": [
        "## Built-in Tool - DuckDuckGo Search"
      ]
    },
    {
      "cell_type": "markdown",
      "metadata": {
        "id": "zfuuEHwkPyeF"
      },
      "source": [
        "## DuckDuckGo Search Tool\n",
        "\n",
        "The DuckDuckGo Search tool is a built-in tool in LangChain that allows you to perform web searches. This is particularly useful for getting current information or answering questions about recent events.\n",
        "\n",
        "Let's create an instance of the search tool and test it with a search query.\n"
      ]
    },
    {
      "cell_type": "code",
      "execution_count": 3,
      "metadata": {
        "colab": {
          "base_uri": "https://localhost:8080/"
        },
        "id": "4K8ez4gVLVua",
        "outputId": "57ec58d0-0f4e-4058-d0fe-80d216908eb8"
      },
      "outputs": [
        {
          "output_type": "stream",
          "name": "stdout",
          "text": [
            "Get the latest updates and breaking news from India , including politics, elections, government, business, technology, and Bollywood. This India Today special report, anchored by Gaurav Sawant, decodes Prime Minister Narendra Modi's Deepavali address from the indigenous aircraft carrier, INS Vikrant. The Prime Minister's statement, referencing 'Operation Sindoor' and Pakistan, sent a strategic message to India's adversaries. Top military experts, including Vice Admiral Shekhar Sinha and Mrs.3 Mrs.2 Syed Ata Hasnain, analyze ... News Today Live Updates: Get the latest news updates from India and all around the world. Stay updated with breaking news today . Top News Headlines of October 20, 2025 | News Today Live Updates, 20 October: As Delhi gears up to celebrate Diwali today , the city is already wrapped in a thick layer of smog, making it increasingly difficult to breathe. Air quality across the national capital has ... Today's top news : Delhi's air quality worsens, Trump warns India on tariffs, Bihar polls heat up, and more updates. Reuters.com is your online source for the latest India news stories and current events, ensuring our readers up to date with any breaking news developments\n"
          ]
        }
      ],
      "source": [
        "from langchain_community.tools import DuckDuckGoSearchRun\n",
        "\n",
        "search_tool = DuckDuckGoSearchRun()\n",
        "\n",
        "results = search_tool.invoke('top news in india today')\n",
        "\n",
        "print(results)"
      ]
    },
    {
      "cell_type": "markdown",
      "metadata": {
        "id": "B3EozFzZPyeG"
      },
      "source": [
        "## Tool Properties\n",
        "\n",
        "Every tool in LangChain has several important properties that describe its functionality:\n",
        "\n",
        "- **name**: The unique identifier for the tool\n",
        "- **description**: A human-readable description of what the tool does\n",
        "- **args**: A schema describing the input parameters the tool expects\n",
        "\n",
        "Let's examine these properties for our search tool.\n"
      ]
    },
    {
      "cell_type": "code",
      "execution_count": 4,
      "metadata": {
        "colab": {
          "base_uri": "https://localhost:8080/"
        },
        "id": "Bz5qSI-516qS",
        "outputId": "7a5bf1ad-8ee9-437a-815e-fd73f43e9a35"
      },
      "outputs": [
        {
          "output_type": "stream",
          "name": "stdout",
          "text": [
            "duckduckgo_search\n",
            "A wrapper around DuckDuckGo Search. Useful for when you need to answer questions about current events. Input should be a search query.\n",
            "{'query': {'description': 'search query to look up', 'title': 'Query', 'type': 'string'}}\n"
          ]
        }
      ],
      "source": [
        "print(search_tool.name)\n",
        "print(search_tool.description)\n",
        "print(search_tool.args)"
      ]
    },
    {
      "cell_type": "markdown",
      "metadata": {
        "id": "3Xnm2Mx1L9WQ"
      },
      "source": [
        "## Built-in Tool - Shell Tool"
      ]
    },
    {
      "cell_type": "markdown",
      "metadata": {
        "id": "ILyVZFszPyeH"
      },
      "source": [
        "## Shell Tool\n",
        "\n",
        "The Shell tool allows you to execute shell commands directly from your Python code. This can be useful for file operations, system administration tasks, or running external programs.\n",
        "\n",
        "**⚠️ Warning**: The shell tool has no safeguards by default and should be used with caution, especially in production environments.\n"
      ]
    },
    {
      "cell_type": "code",
      "execution_count": 5,
      "metadata": {
        "colab": {
          "base_uri": "https://localhost:8080/"
        },
        "id": "PSKJlwU-Lt9W",
        "outputId": "75ef5ff6-2293-402d-eb88-7caa38ebae76"
      },
      "outputs": [
        {
          "output_type": "stream",
          "name": "stdout",
          "text": [
            "Executing command:\n",
            " ls\n",
            "sample_data\n",
            "\n"
          ]
        },
        {
          "output_type": "stream",
          "name": "stderr",
          "text": [
            "/usr/local/lib/python3.12/dist-packages/langchain_community/tools/shell/tool.py:33: UserWarning: The shell tool has no safeguards by default. Use at your own risk.\n",
            "  warnings.warn(\n"
          ]
        }
      ],
      "source": [
        "from langchain_community.tools import ShellTool\n",
        "\n",
        "shell_tool = ShellTool()\n",
        "\n",
        "results = shell_tool.invoke('ls')\n",
        "\n",
        "print(results)"
      ]
    },
    {
      "cell_type": "markdown",
      "metadata": {
        "id": "HkGiksnFOJ3F"
      },
      "source": [
        "## Custom Tools"
      ]
    },
    {
      "cell_type": "markdown",
      "metadata": {
        "id": "Q3WewYOhPyeH"
      },
      "source": [
        "## Creating Custom Tools\n",
        "\n",
        "While LangChain provides many built-in tools, you'll often need to create custom tools for your specific use cases. LangChain offers three main approaches to create custom tools:\n",
        "\n",
        "1. **Using the `@tool` decorator** (simplest approach)\n",
        "2. **Using `StructuredTool.from_function()`** (more control over schema)\n",
        "3. **Inheriting from `BaseTool`** (most flexible approach)\n",
        "\n",
        "Let's explore each method using a simple multiplication function as an example.\n"
      ]
    },
    {
      "cell_type": "markdown",
      "metadata": {
        "id": "Wa4hqPIiPyeI"
      },
      "source": [
        "### Method 1: Using the `@tool` Decorator\n",
        "\n",
        "This is the simplest way to create a custom tool. We'll start by creating a basic function and then gradually add the necessary components to make it a LangChain tool.\n",
        "\n",
        "**Step 1**: Create a basic function without any LangChain-specific features.\n"
      ]
    },
    {
      "cell_type": "markdown",
      "metadata": {
        "id": "OiNGqYepPyeI"
      },
      "source": [
        "**Step 2**: Add type hints to make the function more robust and help LangChain understand the expected input and output types.\n"
      ]
    },
    {
      "cell_type": "markdown",
      "metadata": {
        "id": "Bbmvab0yPyeJ"
      },
      "source": [
        "**Step 3**: Apply the `@tool` decorator to convert the function into a LangChain tool. The decorator automatically extracts type information and creates the necessary tool metadata.\n"
      ]
    },
    {
      "cell_type": "code",
      "execution_count": 6,
      "metadata": {
        "id": "BZ1jNSsrMJZP"
      },
      "outputs": [],
      "source": [
        "from langchain_core.tools import tool"
      ]
    },
    {
      "cell_type": "code",
      "execution_count": 7,
      "metadata": {
        "id": "kqzQjm0inH1B"
      },
      "outputs": [],
      "source": [
        "# Step 1 - create a function\n",
        "\n",
        "def multiply(a, b):\n",
        "    \"\"\"Multiply two numbers\"\"\"\n",
        "    return a*b"
      ]
    },
    {
      "cell_type": "code",
      "execution_count": 8,
      "metadata": {
        "id": "cUNUMvyVnIXk"
      },
      "outputs": [],
      "source": [
        "# Step 2 - add type hints\n",
        "\n",
        "def multiply(a: int, b:int) -> int:\n",
        "    \"\"\"Multiply two numbers\"\"\"\n",
        "    return a*b"
      ]
    },
    {
      "cell_type": "code",
      "execution_count": 9,
      "metadata": {
        "id": "v_OQCXPDOOO5"
      },
      "outputs": [],
      "source": [
        "# Step 3 - add tool decorator\n",
        "\n",
        "@tool\n",
        "def multiply(a: int, b:int) -> int:\n",
        "    \"\"\"Multiply two numbers\"\"\"\n",
        "    return a*b"
      ]
    },
    {
      "cell_type": "markdown",
      "metadata": {
        "id": "PKmosNnaPyeJ"
      },
      "source": [
        "Now let's test our custom tool by invoking it with some sample values.\n"
      ]
    },
    {
      "cell_type": "code",
      "execution_count": 10,
      "metadata": {
        "id": "Hyl7U92mOP-4"
      },
      "outputs": [],
      "source": [
        "result = multiply.invoke({\"a\":3, \"b\":5})"
      ]
    },
    {
      "cell_type": "code",
      "execution_count": 11,
      "metadata": {
        "colab": {
          "base_uri": "https://localhost:8080/"
        },
        "id": "zgb9DJOrOSqG",
        "outputId": "5a95e93b-0153-4e88-ca06-08413d0fcb69"
      },
      "outputs": [
        {
          "output_type": "stream",
          "name": "stdout",
          "text": [
            "15\n"
          ]
        }
      ],
      "source": [
        "print(result)"
      ]
    },
    {
      "cell_type": "markdown",
      "source": [
        "Let's examine the tool's properties to see how LangChain has automatically generated the metadata from our function.\n"
      ],
      "metadata": {
        "id": "I_XTUSW4RHo2"
      }
    },
    {
      "cell_type": "code",
      "execution_count": 12,
      "metadata": {
        "colab": {
          "base_uri": "https://localhost:8080/"
        },
        "id": "fRSajRz6OUWe",
        "outputId": "04e4fb51-578f-49c8-bcf1-68623bbfe58c"
      },
      "outputs": [
        {
          "output_type": "stream",
          "name": "stdout",
          "text": [
            "multiply\n",
            "Multiply two numbers\n",
            "{'a': {'title': 'A', 'type': 'integer'}, 'b': {'title': 'B', 'type': 'integer'}}\n"
          ]
        }
      ],
      "source": [
        "print(multiply.name)\n",
        "print(multiply.description)\n",
        "print(multiply.args)"
      ]
    },
    {
      "cell_type": "markdown",
      "metadata": {
        "id": "dLomnTUyPyeJ"
      },
      "source": [
        "We can also access the JSON schema of the tool's arguments, which is useful for integration with other systems or for documentation purposes.\n"
      ]
    },
    {
      "cell_type": "code",
      "execution_count": 13,
      "metadata": {
        "colab": {
          "base_uri": "https://localhost:8080/"
        },
        "id": "JyFLVLVSOV4Z",
        "outputId": "bfd41439-ba56-4912-d5ed-4434a7bf569a"
      },
      "outputs": [
        {
          "output_type": "stream",
          "name": "stdout",
          "text": [
            "{'description': 'Multiply two numbers', 'properties': {'a': {'title': 'A', 'type': 'integer'}, 'b': {'title': 'B', 'type': 'integer'}}, 'required': ['a', 'b'], 'title': 'multiply', 'type': 'object'}\n"
          ]
        }
      ],
      "source": [
        "print(multiply.args_schema.model_json_schema())"
      ]
    },
    {
      "cell_type": "markdown",
      "metadata": {
        "id": "Hnkkf7XbOqGC"
      },
      "source": [
        "## Method 2 - Using StructuredTool"
      ]
    },
    {
      "cell_type": "markdown",
      "metadata": {
        "id": "eM3We-mQPyeJ"
      },
      "source": [
        "### Method 2: Using StructuredTool\n",
        "\n",
        "The `StructuredTool` approach gives you more control over the tool's schema and metadata. This method is useful when you need custom field descriptions or more complex validation rules.\n",
        "\n",
        "First, we need to import the necessary classes and define a Pydantic model for our input schema.\n"
      ]
    },
    {
      "cell_type": "code",
      "execution_count": 14,
      "metadata": {
        "id": "le0QcJHSOZtx"
      },
      "outputs": [],
      "source": [
        "from langchain.tools import StructuredTool\n",
        "from pydantic import BaseModel, Field"
      ]
    },
    {
      "cell_type": "markdown",
      "metadata": {
        "id": "h87bdP-ZPyeK"
      },
      "source": [
        "Define a Pydantic model that describes the input schema for our tool. This allows us to provide custom descriptions and validation rules for each parameter.\n"
      ]
    },
    {
      "cell_type": "code",
      "execution_count": 15,
      "metadata": {
        "id": "XhQhnCF9OuCx"
      },
      "outputs": [],
      "source": [
        "class MultiplyInput(BaseModel):\n",
        "    a: int = Field(required=True, description=\"The first number to add\")\n",
        "    b: int = Field(required=True, description=\"The second number to add\")"
      ]
    },
    {
      "cell_type": "markdown",
      "metadata": {
        "id": "4nHdXMDZPyeK"
      },
      "source": [
        "Create the function that will be wrapped by the tool. This is the actual implementation of our multiplication logic.\n"
      ]
    },
    {
      "cell_type": "code",
      "execution_count": 16,
      "metadata": {
        "id": "V0emRsp8Ovle"
      },
      "outputs": [],
      "source": [
        "def multiply_func(a: int, b: int) -> int:\n",
        "    return a * b"
      ]
    },
    {
      "cell_type": "markdown",
      "metadata": {
        "id": "bvsrkDpuPyeK"
      },
      "source": [
        "Create the tool using `StructuredTool.from_function()`. This method allows us to specify the function, name, description, and argument schema explicitly.\n"
      ]
    },
    {
      "cell_type": "code",
      "execution_count": 17,
      "metadata": {
        "id": "Ym5nmQuaOxJi"
      },
      "outputs": [],
      "source": [
        "multiply_tool = StructuredTool.from_function(\n",
        "    func=multiply_func,\n",
        "    name=\"multiply\",\n",
        "    description=\"Multiply two numbers\",\n",
        "    args_schema=MultiplyInput\n",
        ")"
      ]
    },
    {
      "cell_type": "markdown",
      "metadata": {
        "id": "11s9PLKvPyeK"
      },
      "source": [
        "Test the tool and examine its properties to see how our custom schema descriptions are reflected in the tool metadata.\n"
      ]
    },
    {
      "cell_type": "code",
      "execution_count": 18,
      "metadata": {
        "colab": {
          "base_uri": "https://localhost:8080/"
        },
        "id": "EUWsRs6OOy7W",
        "outputId": "4e171b51-c5ad-448e-ad97-675bd1e5bd9f"
      },
      "outputs": [
        {
          "output_type": "stream",
          "name": "stdout",
          "text": [
            "9\n",
            "multiply\n",
            "Multiply two numbers\n",
            "{'a': {'description': 'The first number to add', 'required': True, 'title': 'A', 'type': 'integer'}, 'b': {'description': 'The second number to add', 'required': True, 'title': 'B', 'type': 'integer'}}\n"
          ]
        }
      ],
      "source": [
        "result = multiply_tool.invoke({'a':3, 'b':3})\n",
        "\n",
        "print(result)\n",
        "print(multiply_tool.name)\n",
        "print(multiply_tool.description)\n",
        "print(multiply_tool.args)"
      ]
    },
    {
      "cell_type": "markdown",
      "metadata": {
        "id": "Id-F-wZLPyeK"
      },
      "source": [
        "### Method 3: Using BaseTool Class\n",
        "\n",
        "The most flexible approach is to inherit from the `BaseTool` class. This gives you complete control over the tool's behavior and is useful for complex tools that need custom logic beyond just function execution.\n",
        "\n",
        "First, let's import the necessary classes and redefine our input schema.\n"
      ]
    },
    {
      "cell_type": "code",
      "execution_count": 19,
      "metadata": {
        "id": "GiXpMN0sOzsa"
      },
      "outputs": [],
      "source": [
        "from langchain.tools import BaseTool\n",
        "from typing import Type"
      ]
    },
    {
      "cell_type": "markdown",
      "metadata": {
        "id": "VvYOsD-HPyeL"
      },
      "source": [
        "Define the input schema using Pydantic. This is the same as in Method 2, but we'll use it in a different way.\n"
      ]
    },
    {
      "cell_type": "code",
      "execution_count": 20,
      "metadata": {
        "id": "yl0m79ys625L"
      },
      "outputs": [],
      "source": [
        "# arg schema using pydantic\n",
        "\n",
        "class MultiplyInput(BaseModel):\n",
        "    a: int = Field(required=True, description=\"The first number to add\")\n",
        "    b: int = Field(required=True, description=\"The second number to add\")"
      ]
    },
    {
      "cell_type": "markdown",
      "metadata": {
        "id": "IT8frhtPPyeL"
      },
      "source": [
        "Create a custom tool class by inheriting from `BaseTool`. This approach allows you to:\n",
        "- Define tool metadata as class attributes\n",
        "- Implement custom logic in the `_run` method\n",
        "- Add additional methods for more complex behavior\n",
        "- Override other methods like `_arun` for async support\n"
      ]
    },
    {
      "cell_type": "markdown",
      "metadata": {
        "id": "6wysMXB0PyeP"
      },
      "source": [
        "Instantiate our custom tool class to create a tool instance.\n"
      ]
    },
    {
      "cell_type": "code",
      "execution_count": 21,
      "metadata": {
        "id": "S5pvNLWZPEUd"
      },
      "outputs": [],
      "source": [
        "class MultiplyTool(BaseTool):\n",
        "    name: str = \"multiply\"\n",
        "    description: str = \"Multiply two numbers\"\n",
        "\n",
        "    args_schema: Type[BaseModel] = MultiplyInput\n",
        "\n",
        "    def _run(self, a: int, b: int) -> int:\n",
        "        return a * b"
      ]
    },
    {
      "cell_type": "markdown",
      "metadata": {
        "id": "M8mpuJiGPyeQ"
      },
      "source": [
        "Test the custom tool and examine its properties to verify everything works correctly.\n"
      ]
    },
    {
      "cell_type": "code",
      "execution_count": 22,
      "metadata": {
        "id": "bznB88uQPF4n"
      },
      "outputs": [],
      "source": [
        "multiply_tool = MultiplyTool()"
      ]
    },
    {
      "cell_type": "code",
      "execution_count": 23,
      "metadata": {
        "colab": {
          "base_uri": "https://localhost:8080/"
        },
        "id": "4RzOFApnPb6K",
        "outputId": "e176ffc8-3edf-487b-c276-e9dc1f36d6a5"
      },
      "outputs": [
        {
          "output_type": "stream",
          "name": "stdout",
          "text": [
            "9\n",
            "multiply\n",
            "Multiply two numbers\n",
            "{'a': {'description': 'The first number to add', 'required': True, 'title': 'A', 'type': 'integer'}, 'b': {'description': 'The second number to add', 'required': True, 'title': 'B', 'type': 'integer'}}\n"
          ]
        }
      ],
      "source": [
        "result = multiply_tool.invoke({'a':3, 'b':3})\n",
        "\n",
        "print(result)\n",
        "print(multiply_tool.name)\n",
        "print(multiply_tool.description)\n",
        "\n",
        "print(multiply_tool.args)"
      ]
    },
    {
      "cell_type": "markdown",
      "metadata": {
        "id": "lYYllJi1PyeQ"
      },
      "source": [
        "## Creating Toolkits\n",
        "\n",
        "A toolkit is a collection of related tools that can be used together. This is useful for organizing multiple tools that serve a common purpose, such as a set of mathematical operations or data processing tools.\n",
        "\n",
        "Let's create a simple math toolkit that includes both addition and multiplication tools.\n"
      ]
    },
    {
      "cell_type": "markdown",
      "metadata": {
        "id": "b-px1wH3PyeQ"
      },
      "source": [
        "First, let's create our custom tools using the `@tool` decorator. We'll create both an addition and multiplication tool.\n"
      ]
    },
    {
      "cell_type": "code",
      "execution_count": 24,
      "metadata": {
        "id": "fFbdDZBiQn9k"
      },
      "outputs": [],
      "source": [
        "from langchain_core.tools import tool\n",
        "\n",
        "# Custom tools\n",
        "@tool\n",
        "def add(a: int, b: int) -> int:\n",
        "    \"\"\"Add two numbers\"\"\"\n",
        "    return a + b\n",
        "\n",
        "@tool\n",
        "def multiply(a: int, b: int) -> int:\n",
        "    \"\"\"Multiply two numbers\"\"\"\n",
        "    return a * b\n"
      ]
    },
    {
      "cell_type": "markdown",
      "metadata": {
        "id": "9YLQRr46PyeQ"
      },
      "source": [
        "Create a toolkit class that organizes our tools. The `get_tools()` method returns a list of all tools in the toolkit, making it easy to access them as a group.\n"
      ]
    },
    {
      "cell_type": "code",
      "execution_count": 25,
      "metadata": {
        "id": "j6tT1z_APgJ1"
      },
      "outputs": [],
      "source": [
        "class MathToolkit:\n",
        "    def get_tools(self):\n",
        "        return [add, multiply]\n"
      ]
    },
    {
      "cell_type": "markdown",
      "metadata": {
        "id": "VYzvI2QDPyeR"
      },
      "source": [
        "Test our toolkit by creating an instance and examining all the tools it contains. This demonstrates how toolkits make it easy to manage and access multiple related tools.\n"
      ]
    },
    {
      "cell_type": "code",
      "execution_count": 26,
      "metadata": {
        "colab": {
          "base_uri": "https://localhost:8080/"
        },
        "id": "fH6n1A0FRcMc",
        "outputId": "9753c5aa-c204-4c18-9653-c7ae724abf80"
      },
      "outputs": [
        {
          "output_type": "stream",
          "name": "stdout",
          "text": [
            "add => Add two numbers\n",
            "multiply => Multiply two numbers\n"
          ]
        }
      ],
      "source": [
        "toolkit = MathToolkit()\n",
        "tools = toolkit.get_tools()\n",
        "\n",
        "for tool in tools:\n",
        "    print(tool.name, \"=>\", tool.description)\n"
      ]
    },
    {
      "cell_type": "code",
      "execution_count": 26,
      "metadata": {
        "id": "SkfYSzVeReij"
      },
      "outputs": [],
      "source": []
    }
  ],
  "metadata": {
    "colab": {
      "provenance": []
    },
    "kernelspec": {
      "display_name": "Python 3",
      "name": "python3"
    },
    "language_info": {
      "name": "python"
    }
  },
  "nbformat": 4,
  "nbformat_minor": 0
}