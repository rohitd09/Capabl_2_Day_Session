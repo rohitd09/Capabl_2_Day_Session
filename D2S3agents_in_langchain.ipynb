{
  "cells": [
    {
      "cell_type": "markdown",
      "metadata": {
        "id": "tYy56BHZgP7z"
      },
      "source": [
        "# LangChain Agents Tutorial\n",
        "\n",
        "This notebook demonstrates how to create and use agents in LangChain. We'll build a ReAct agent that can search the web and get weather information.\n",
        "\n",
        "## Step 1: Setting up the OpenAI API Key\n",
        "\n",
        "First, we need to set up our OpenAI API key to use the language model.\n"
      ]
    },
    {
      "cell_type": "code",
      "execution_count": null,
      "metadata": {
        "id": "WeWR1wl3dBay"
      },
      "outputs": [],
      "source": [
        "import os\n",
        "os.environ[\"GROQ_API_KEY\"] = \"[YOUR_GROQ_API_KEY]\""
      ]
    },
    {
      "cell_type": "markdown",
      "metadata": {
        "id": "VcfWkpVtgP78"
      },
      "source": [
        "## Step 2: Installing Required Packages\n",
        "\n",
        "We need to install the necessary LangChain packages and other dependencies for our agent.\n"
      ]
    },
    {
      "cell_type": "code",
      "execution_count": 2,
      "metadata": {
        "colab": {
          "base_uri": "https://localhost:8080/"
        },
        "id": "t_auBTtxdIqp",
        "outputId": "4beaaa76-0d57-431b-ccbf-6e593fcef858"
      },
      "outputs": [
        {
          "name": "stdout",
          "output_type": "stream",
          "text": [
            "\u001b[2K   \u001b[90m━━━━━━━━━━━━━━━━━━━━━━━━━━━━━━━━━━━━━━━━\u001b[0m \u001b[32m2.5/2.5 MB\u001b[0m \u001b[31m13.8 MB/s\u001b[0m eta \u001b[36m0:00:00\u001b[0m\n",
            "\u001b[2K   \u001b[90m━━━━━━━━━━━━━━━━━━━━━━━━━━━━━━━━━━━━━━━━\u001b[0m \u001b[32m64.7/64.7 kB\u001b[0m \u001b[31m3.6 MB/s\u001b[0m eta \u001b[36m0:00:00\u001b[0m\n",
            "\u001b[2K   \u001b[90m━━━━━━━━━━━━━━━━━━━━━━━━━━━━━━━━━━━━━━━━\u001b[0m \u001b[32m41.6/41.6 kB\u001b[0m \u001b[31m1.5 MB/s\u001b[0m eta \u001b[36m0:00:00\u001b[0m\n",
            "\u001b[2K   \u001b[90m━━━━━━━━━━━━━━━━━━━━━━━━━━━━━━━━━━━━━━━━\u001b[0m \u001b[32m135.4/135.4 kB\u001b[0m \u001b[31m8.2 MB/s\u001b[0m eta \u001b[36m0:00:00\u001b[0m\n",
            "\u001b[2K   \u001b[90m━━━━━━━━━━━━━━━━━━━━━━━━━━━━━━━━━━━━━━━━\u001b[0m \u001b[32m5.3/5.3 MB\u001b[0m \u001b[31m50.9 MB/s\u001b[0m eta \u001b[36m0:00:00\u001b[0m\n",
            "\u001b[2K   \u001b[90m━━━━━━━━━━━━━━━━━━━━━━━━━━━━━━━━━━━━━━━━\u001b[0m \u001b[32m3.3/3.3 MB\u001b[0m \u001b[31m45.6 MB/s\u001b[0m eta \u001b[36m0:00:00\u001b[0m\n",
            "\u001b[2K   \u001b[90m━━━━━━━━━━━━━━━━━━━━━━━━━━━━━━━━━━━━━━━━\u001b[0m \u001b[32m50.9/50.9 kB\u001b[0m \u001b[31m2.3 MB/s\u001b[0m eta \u001b[36m0:00:00\u001b[0m\n",
            "\u001b[?25h\u001b[31mERROR: pip's dependency resolver does not currently take into account all the packages that are installed. This behaviour is the source of the following dependency conflicts.\n",
            "google-colab 1.0.0 requires requests==2.32.4, but you have requests 2.32.5 which is incompatible.\u001b[0m\u001b[31m\n",
            "\u001b[0m"
          ]
        }
      ],
      "source": [
        "!pip install -q langchain-groq langchain-community langchain-core requests duckduckgo-search ddgs"
      ]
    },
    {
      "cell_type": "markdown",
      "metadata": {
        "id": "rfW7KY3cgP7-"
      },
      "source": [
        "## Step 3: Importing Core Libraries\n",
        "\n",
        "Let's import the essential LangChain components and other libraries we'll need.\n"
      ]
    },
    {
      "cell_type": "code",
      "execution_count": 3,
      "metadata": {
        "id": "JRG8AtkSdLM3"
      },
      "outputs": [],
      "source": [
        "from langchain_groq import ChatGroq\n",
        "from langchain_core.tools import tool\n",
        "import requests"
      ]
    },
    {
      "cell_type": "markdown",
      "metadata": {
        "id": "TB7gtHWQgP7_"
      },
      "source": [
        "## Step 4: Setting up the Search Tool\n",
        "\n",
        "We'll use DuckDuckGo search as one of our tools to allow the agent to search for information on the web.\n"
      ]
    },
    {
      "cell_type": "code",
      "execution_count": 4,
      "metadata": {
        "id": "-F_IXJLikwHO"
      },
      "outputs": [],
      "source": [
        "from langchain_community.tools import DuckDuckGoSearchRun\n",
        "\n",
        "search_tool = DuckDuckGoSearchRun()"
      ]
    },
    {
      "cell_type": "markdown",
      "metadata": {
        "id": "ifCMiGFygP8B"
      },
      "source": [
        "## Step 5: Creating a Custom Weather Tool\n",
        "\n",
        "Here we define a custom tool that can fetch weather data for any city using the WeatherStack API. This tool will be available to our agent.\n"
      ]
    },
    {
      "cell_type": "code",
      "execution_count": null,
      "metadata": {
        "id": "R2GZeN89ytgo"
      },
      "outputs": [],
      "source": [
        "@tool\n",
        "def get_weather_data(city: str) -> str:\n",
        "  \"\"\"\n",
        "  This tool fetches the current weather data for a given city\n",
        "  \"\"\"\n",
        "  url = f'https://api.weatherstack.com/current?access_key=[YOUR_WEATHERSTACK_API_KEY]&query={city}' # Enter the weatherstack api key before use\n",
        "\n",
        "  response = requests.get(url)\n",
        "\n",
        "  return response.json()"
      ]
    },
    {
      "cell_type": "markdown",
      "metadata": {
        "id": "SSrIJvEUgP8C"
      },
      "source": [
        "## Step 6: Initializing the Language Model\n",
        "\n",
        "We create an instance of the ChatOpenAI model that will power our agent's reasoning capabilities.\n"
      ]
    },
    {
      "cell_type": "code",
      "execution_count": 6,
      "metadata": {
        "id": "LSBEXlq3llWG"
      },
      "outputs": [],
      "source": [
        "# llm = ChatGroq(model=\"openai/gpt-oss-20b\", temperature=0)\n",
        "llm = ChatGroq(\n",
        "    model=\"openai/gpt-oss-120b\",\n",
        "    temperature=0,\n",
        "    # Enable tool calling for this model\n",
        "    model_kwargs={\"tool_choice\": \"auto\"}\n",
        ")"
      ]
    },
    {
      "cell_type": "markdown",
      "metadata": {
        "id": "DReCoHuVgP8D"
      },
      "source": [
        "## Step 7: Importing Agent Components\n",
        "\n",
        "We import the necessary components to create a ReAct agent and agent executor.\n"
      ]
    },
    {
      "cell_type": "code",
      "execution_count": 7,
      "metadata": {
        "id": "QpkrG8nAlysd"
      },
      "outputs": [],
      "source": [
        "from langchain.agents import create_react_agent, AgentExecutor\n",
        "from langchain import hub"
      ]
    },
    {
      "cell_type": "markdown",
      "metadata": {
        "id": "rR8XwMezgP8E"
      },
      "source": [
        "## Step 8: Loading the ReAct Prompt\n",
        "\n",
        "We pull the standard ReAct (Reasoning and Acting) prompt from LangChain Hub. This prompt template guides the agent on how to reason through problems and take actions.\n"
      ]
    },
    {
      "cell_type": "code",
      "execution_count": 8,
      "metadata": {
        "id": "upsYmEP97Fk0"
      },
      "outputs": [],
      "source": [
        "# Step 2: Pull the ReAct prompt from LangChain Hub\n",
        "base_prompt = hub.pull(\"hwchase17/react\")  # pulls the standard ReAct agent prompt"
      ]
    },
    {
      "cell_type": "code",
      "execution_count": null,
      "metadata": {
        "id": "BonIZVvid9pn"
      },
      "outputs": [],
      "source": [
        "# Add stopping condition to prevent infinite loop\n",
        "\n",
        "stopping_instructions = \"\"\"\n",
        "You will reason step-by-step using the format:\n",
        "Thought: <your reasoning>\n",
        "Action: <tool name>\n",
        "Action Input: <input to the tool>\n",
        "\n",
        "**Stopping condition:**\n",
        "If you have gathered all required information to answer the user's question,\n",
        "STOP calling more tools.\n",
        "Instead, print your answer starting with 'Final Answer:' on a new line.\n",
        "Do NOT print any more Thoughts or Actions after the final answer.\n",
        "\n",
        "Example:\n",
        "Thought: I should find the capital of Maharashtra.\n",
        "Action: search_tool\n",
        "Action Input: \"capital of Maharashtra\"\n",
        "\n",
        "Thought: I found the info I need.\n",
        "Final Answer: The capital of Maharashtra is Mumbai.\n",
        "\"\"\""
      ]
    },
    {
      "cell_type": "code",
      "execution_count": null,
      "metadata": {
        "id": "BCZkxKtHeD7H"
      },
      "outputs": [],
      "source": [
        "modified_prompt = base_prompt + \"\\n\" + stopping_instructions # add stopping condition to the predefined prompt"
      ]
    },
    {
      "cell_type": "markdown",
      "metadata": {
        "id": "miIdRTGIgP8F"
      },
      "source": [
        "## Step 9: Creating the ReAct Agent\n",
        "\n",
        "Now we create our ReAct agent by combining the language model, our tools (search and weather), and the ReAct prompt template.\n"
      ]
    },
    {
      "cell_type": "code",
      "execution_count": 11,
      "metadata": {
        "id": "46OsNvahYoXO"
      },
      "outputs": [],
      "source": [
        "# Step 3: Create the ReAct agent manually with the pulled prompt\n",
        "agent = create_react_agent(\n",
        "    llm=llm,\n",
        "    tools=[search_tool, get_weather_data],\n",
        "    prompt=modified_prompt\n",
        ")"
      ]
    },
    {
      "cell_type": "markdown",
      "metadata": {
        "id": "8Fv6yJgsgP8F"
      },
      "source": [
        "## Step 10: Creating the Agent Executor\n",
        "\n",
        "The AgentExecutor wraps our agent and handles the execution loop, managing tool calls and responses.\n"
      ]
    },
    {
      "cell_type": "code",
      "execution_count": 12,
      "metadata": {
        "id": "n_eQWa9qYqVN"
      },
      "outputs": [],
      "source": [
        "# Step 4: Wrap it with AgentExecutor\n",
        "agent_executor = AgentExecutor(\n",
        "    agent=agent,\n",
        "    tools=[search_tool, get_weather_data],\n",
        "    verbose=True,\n",
        "    handle_parsing_errors=True\n",
        ")"
      ]
    },
    {
      "cell_type": "markdown",
      "metadata": {
        "id": "Sg2tG4KugP8G"
      },
      "source": [
        "## Step 11: Testing the Agent\n",
        "\n",
        "Let's test our agent with a complex query that requires both searching for information and getting weather data. The agent will need to:\n",
        "1. Find the capital of Madhya Pradesh\n",
        "2. Get the current weather for that city\n"
      ]
    },
    {
      "cell_type": "code",
      "execution_count": 17,
      "metadata": {
        "colab": {
          "base_uri": "https://localhost:8080/"
        },
        "id": "4731_FTsYsJT",
        "outputId": "f81de364-093e-4783-8f15-693a25e6d631"
      },
      "outputs": [
        {
          "name": "stdout",
          "output_type": "stream",
          "text": [
            "\n",
            "\n",
            "\u001b[1m> Entering new AgentExecutor chain...\u001b[0m\n",
            "\u001b[32;1m\u001b[1;3mQuestion: Find the capital of Madhya Pradesh, then find its current weather condition  \n",
            "Thought: I need to determine the capital city of Madhya Pradesh.  \n",
            "Action: duckduckgo_search  \n",
            "Action Input: \"capital of Madhya Pradesh\"  \u001b[0m\u001b[36;1m\u001b[1;3mLess-fertile red-to-yellow soils are spread over much of eastern Madhya Pradesh . ... Madhya Pradesh has a number of national parks and many wildlife ... Bhopal is the capital city of Madhya Pradesh . ... Madhya Pradesh has a population of 8.50 crore (as of 2020), out of which 90.9%Â are Hindus ... Madhya Pradesh state is made up of 48 districts, which are grouped into nine divisions: Bhopal , Chambal, Gwalior , Hoshangabad, Indore , Jabalpur ... Madhya Pradesh was created in 1950 from the former British Central Provinces and Berar and the princely states of Makrai and Chhattisgarh, with Nagpur ... The capital of Madhya Pradesh is Bhopal. ... A large section of the Madhya Pradesh population belongs to the category known as Scheduled Tribes.\u001b[0m\u001b[32;1m\u001b[1;3mQuestion: Find the capital of Madhya Pradesh, then find its current weather condition  \n",
            "Thought: I identified the capital of Madhya Pradesh as Bhopal using a web search.  \n",
            "Action: get_weather_data  \n",
            "Action Input: Bhopal  \u001b[0m\u001b[33;1m\u001b[1;3m{'request': {'type': 'City', 'query': 'Bhopal, India', 'language': 'en', 'unit': 'm'}, 'location': {'name': 'Bhopal', 'country': 'India', 'region': 'Madhya Pradesh', 'lat': '23.267', 'lon': '77.400', 'timezone_id': 'Asia/Kolkata', 'localtime': '2025-10-15 21:25', 'localtime_epoch': 1760563500, 'utc_offset': '5.50'}, 'current': {'observation_time': '03:55 PM', 'temperature': 25, 'weather_code': 143, 'weather_icons': ['https://cdn.worldweatheronline.com/images/wsymbols01_png_64/wsymbol_0006_mist.png'], 'weather_descriptions': ['Haze'], 'astro': {'sunrise': '06:17 AM', 'sunset': '05:55 PM', 'moonrise': '12:37 AM', 'moonset': '02:21 PM', 'moon_phase': 'Waning Crescent', 'moon_illumination': 37}, 'air_quality': {'co': '339.85', 'no2': '6.55', 'o3': '124', 'so2': '10.15', 'pm2_5': '64.65', 'pm10': '68.15', 'us-epa-index': '3', 'gb-defra-index': '3'}, 'wind_speed': 6, 'wind_degree': 80, 'wind_dir': 'E', 'pressure': 1013, 'precip': 0, 'humidity': 79, 'cloudcover': 0, 'feelslike': 27, 'uv_index': 0, 'visibility': 3, 'is_day': 'no'}}\u001b[0m\u001b[32;1m\u001b[1;3mQuestion: Find the capital of Madhya Pradesh, then find its current weather condition  \n",
            "\n",
            "Final Answer: The capital of Madhya Pradesh is **Bhopal**.  \n",
            "According to the latest weather data, Bhopal is experiencing **haze** with a temperature of **25 °C**, humidity of **79 %**, light winds from the east (about 6 km/h), and a pressure of **1013 hPa**. The observation time is 03:55 PM local time, and it is currently night (no daylight).\u001b[0m\n",
            "\n",
            "\u001b[1m> Finished chain.\u001b[0m\n",
            "{'input': \"Find the capital of Madhya Pradesh, then find it's current weather condition\", 'output': 'The capital of Madhya Pradesh is **Bhopal**.  \\nAccording to the latest weather data, Bhopal is experiencing **haze** with a temperature of **25\\u202f°C**, humidity of **79\\u202f%**, light winds from the east (about 6\\u202fkm/h), and a pressure of **1013\\u202fhPa**. The observation time is 03:55\\u202fPM local time, and it is currently night (no daylight).'}\n"
          ]
        }
      ],
      "source": [
        "# Step 5: Invoke\n",
        "response = agent_executor.invoke({\"input\": \"Find the capital of Madhya Pradesh, then find it's current weather condition\"})\n",
        "# response = agent_executor.invoke({\"input\": \"Find the weather condition of Bhopal.\"})\n",
        "print(response)"
      ]
    },
    {
      "cell_type": "code",
      "execution_count": 18,
      "metadata": {
        "colab": {
          "base_uri": "https://localhost:8080/",
          "height": 53
        },
        "id": "dISl6fzqZKfU",
        "outputId": "8d41ec2f-4daa-4c5c-bd2d-7d83efbe2b33"
      },
      "outputs": [
        {
          "data": {
            "application/vnd.google.colaboratory.intrinsic+json": {
              "type": "string"
            },
            "text/plain": [
              "'The capital of Madhya Pradesh is **Bhopal**.  \\nAccording to the latest weather data, Bhopal is experiencing **haze** with a temperature of **25\\u202f°C**, humidity of **79\\u202f%**, light winds from the east (about 6\\u202fkm/h), and a pressure of **1013\\u202fhPa**. The observation time is 03:55\\u202fPM local time, and it is currently night (no daylight).'"
            ]
          },
          "execution_count": 18,
          "metadata": {},
          "output_type": "execute_result"
        }
      ],
      "source": [
        "response['output']"
      ]
    },
    {
      "cell_type": "markdown",
      "metadata": {
        "id": "341APnpGgP8H"
      },
      "source": [
        "## Summary\n",
        "\n",
        "This notebook demonstrated how to:\n",
        "- Set up LangChain agents with custom tools\n",
        "- Use the ReAct framework for reasoning and acting\n",
        "- Combine multiple tools (search and weather API) in a single agent\n",
        "- Execute complex multi-step queries that require both information retrieval and data processing\n",
        "\n",
        "The agent successfully found that Bhopal is the capital of Madhya Pradesh and retrieved its current weather conditions by using both the search tool and the weather API tool in sequence.\n"
      ]
    },
    {
      "cell_type": "code",
      "execution_count": null,
      "metadata": {
        "id": "QQcK6ADRB6AZ"
      },
      "outputs": [],
      "source": []
    }
  ],
  "metadata": {
    "colab": {
      "provenance": []
    },
    "kernelspec": {
      "display_name": "Python 3",
      "name": "python3"
    },
    "language_info": {
      "codemirror_mode": {
        "name": "ipython",
        "version": 3
      },
      "file_extension": ".py",
      "mimetype": "text/x-python",
      "name": "python",
      "nbconvert_exporter": "python",
      "pygments_lexer": "ipython3",
      "version": "3.13.5"
    }
  },
  "nbformat": 4,
  "nbformat_minor": 0
}
