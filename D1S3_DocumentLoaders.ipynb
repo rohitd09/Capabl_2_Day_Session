{
  "nbformat": 4,
  "nbformat_minor": 0,
  "metadata": {
    "colab": {
      "provenance": []
    },
    "kernelspec": {
      "name": "python3",
      "display_name": "Python 3"
    },
    "language_info": {
      "name": "python"
    }
  },
  "cells": [
    {
      "cell_type": "markdown",
      "source": [
        "# 📄 Session 3: Document Loaders in LangChain (Groq + v3)\n",
        "\n",
        "**Objective:**  \n",
        "Learn how to load and inspect documents (PDFs) in LangChain using `PyPDFLoader`.  \n",
        "\n",
        "**Why This Matters:**  \n",
        "- First step in RAG: converting unstructured files (PDFs) into structured text.  \n",
        "- Metadata helps in filtering and contextual retrieval later.  \n"
      ],
      "metadata": {
        "id": "t4IJV05x4RkC"
      }
    },
    {
      "cell_type": "markdown",
      "source": [
        "## ✅ Step 1: Install Required Libraries\n",
        "We’ll use:\n",
        "- **LangChain v3**  \n",
        "- **LangChain Groq** (for future steps)  \n",
        "- **pypdf** (PDF parsing)  \n"
      ],
      "metadata": {
        "id": "R0LdFe5x4bMH"
      }
    },
    {
      "cell_type": "code",
      "execution_count": 1,
      "metadata": {
        "colab": {
          "base_uri": "https://localhost:8080/"
        },
        "id": "yJxU_-l64KfL",
        "outputId": "4f9d046c-2721-452d-c2f5-a125148efdd7"
      },
      "outputs": [
        {
          "output_type": "stream",
          "name": "stdout",
          "text": [
            "\u001b[?25l   \u001b[90m━━━━━━━━━━━━━━━━━━━━━━━━━━━━━━━━━━━━━━━━\u001b[0m \u001b[32m0.0/323.6 kB\u001b[0m \u001b[31m?\u001b[0m eta \u001b[36m-:--:--\u001b[0m\r\u001b[2K   \u001b[91m━━━━━━━━━━━━━━━━━━━━━━━━━━━━━━━━━━━━━━━\u001b[0m\u001b[90m╺\u001b[0m \u001b[32m317.4/323.6 kB\u001b[0m \u001b[31m13.9 MB/s\u001b[0m eta \u001b[36m0:00:01\u001b[0m\r\u001b[2K   \u001b[90m━━━━━━━━━━━━━━━━━━━━━━━━━━━━━━━━━━━━━━━━\u001b[0m \u001b[32m323.6/323.6 kB\u001b[0m \u001b[31m8.1 MB/s\u001b[0m eta \u001b[36m0:00:00\u001b[0m\n",
            "\u001b[2K   \u001b[90m━━━━━━━━━━━━━━━━━━━━━━━━━━━━━━━━━━━━━━━━\u001b[0m \u001b[32m2.5/2.5 MB\u001b[0m \u001b[31m52.6 MB/s\u001b[0m eta \u001b[36m0:00:00\u001b[0m\n",
            "\u001b[2K   \u001b[90m━━━━━━━━━━━━━━━━━━━━━━━━━━━━━━━━━━━━━━━━\u001b[0m \u001b[32m135.8/135.8 kB\u001b[0m \u001b[31m7.5 MB/s\u001b[0m eta \u001b[36m0:00:00\u001b[0m\n",
            "\u001b[2K   \u001b[90m━━━━━━━━━━━━━━━━━━━━━━━━━━━━━━━━━━━━━━━━\u001b[0m \u001b[32m64.7/64.7 kB\u001b[0m \u001b[31m3.5 MB/s\u001b[0m eta \u001b[36m0:00:00\u001b[0m\n",
            "\u001b[2K   \u001b[90m━━━━━━━━━━━━━━━━━━━━━━━━━━━━━━━━━━━━━━━━\u001b[0m \u001b[32m50.9/50.9 kB\u001b[0m \u001b[31m2.9 MB/s\u001b[0m eta \u001b[36m0:00:00\u001b[0m\n",
            "\u001b[?25h\u001b[31mERROR: pip's dependency resolver does not currently take into account all the packages that are installed. This behaviour is the source of the following dependency conflicts.\n",
            "google-colab 1.0.0 requires requests==2.32.4, but you have requests 2.32.5 which is incompatible.\u001b[0m\u001b[31m\n",
            "\u001b[0m"
          ]
        }
      ],
      "source": [
        "!pip install -q langchain==0.3.27 langchain-groq==0.3.8 pypdf==6.1.2 langchain_community==0.3.31\n"
      ]
    },
    {
      "cell_type": "code",
      "source": [
        "!pip show langchain langchain-groq pypdf langchain_community"
      ],
      "metadata": {
        "colab": {
          "base_uri": "https://localhost:8080/"
        },
        "id": "aqpvVb_kbcmD",
        "outputId": "f170bfa2-8deb-4f23-b72c-c27903bfcdfe"
      },
      "execution_count": 2,
      "outputs": [
        {
          "output_type": "stream",
          "name": "stdout",
          "text": [
            "Name: langchain\n",
            "Version: 0.3.27\n",
            "Summary: Building applications with LLMs through composability\n",
            "Home-page: \n",
            "Author: \n",
            "Author-email: \n",
            "License: MIT\n",
            "Location: /usr/local/lib/python3.12/dist-packages\n",
            "Requires: langchain-core, langchain-text-splitters, langsmith, pydantic, PyYAML, requests, SQLAlchemy\n",
            "Required-by: langchain-community\n",
            "---\n",
            "Name: langchain-groq\n",
            "Version: 0.3.8\n",
            "Summary: An integration package connecting Groq and LangChain\n",
            "Home-page: \n",
            "Author: \n",
            "Author-email: \n",
            "License: MIT\n",
            "Location: /usr/local/lib/python3.12/dist-packages\n",
            "Requires: groq, langchain-core\n",
            "Required-by: \n",
            "---\n",
            "Name: pypdf\n",
            "Version: 6.1.2\n",
            "Summary: A pure-python PDF library capable of splitting, merging, cropping, and transforming PDF files\n",
            "Home-page: \n",
            "Author: \n",
            "Author-email: Mathieu Fenniak <biziqe@mathieu.fenniak.net>\n",
            "License: \n",
            "Location: /usr/local/lib/python3.12/dist-packages\n",
            "Requires: \n",
            "Required-by: \n",
            "---\n",
            "Name: langchain-community\n",
            "Version: 0.3.31\n",
            "Summary: Community contributed LangChain integrations.\n",
            "Home-page: \n",
            "Author: \n",
            "Author-email: \n",
            "License: MIT\n",
            "Location: /usr/local/lib/python3.12/dist-packages\n",
            "Requires: aiohttp, dataclasses-json, httpx-sse, langchain, langchain-core, langsmith, numpy, pydantic-settings, PyYAML, requests, SQLAlchemy, tenacity\n",
            "Required-by: \n"
          ]
        }
      ]
    },
    {
      "cell_type": "markdown",
      "source": [
        "## ✅ Step 2: Setup Groq API Key\n",
        "We’ll again use Colab **Secrets Manager**.\n"
      ],
      "metadata": {
        "id": "79TLnN9l4gOE"
      }
    },
    {
      "cell_type": "markdown",
      "source": [],
      "metadata": {
        "id": "ObdX5irf4efQ"
      }
    },
    {
      "cell_type": "code",
      "source": [
        "from google.colab import userdata\n",
        "\n",
        "# Load Groq API key\n",
        "GROQ_API_KEY = userdata.get('GROQ_API_KEY')\n",
        "\n",
        "if GROQ_API_KEY:\n",
        "    print(\"✅ Groq API key retrieved!\")\n",
        "else:\n",
        "    print(\"❌ Please add GROQ_API_KEY in Colab Secrets.\")\n"
      ],
      "metadata": {
        "colab": {
          "base_uri": "https://localhost:8080/"
        },
        "id": "TwXbsv8C4k-9",
        "outputId": "261b6b0b-502f-4cf8-fa8c-efdc42c5e0b1"
      },
      "execution_count": 3,
      "outputs": [
        {
          "output_type": "stream",
          "name": "stdout",
          "text": [
            "✅ Groq API key retrieved!\n"
          ]
        }
      ]
    },
    {
      "cell_type": "markdown",
      "source": [
        "## ✅ Step 3: Load a PDF with PyPDFLoader\n",
        "We’ll use `PyPDFLoader` from LangChain community loaders.  \n",
        "Make sure to upload a sample PDF (like `scholarship_info.pdf`) to Colab first.  \n"
      ],
      "metadata": {
        "id": "7F_4uFjU4p5s"
      }
    },
    {
      "cell_type": "code",
      "source": [
        "from langchain_community.document_loaders import PyPDFLoader\n",
        "\n",
        "# Replace with your uploaded file path in Colab\n",
        "pdf_path = \"/content/scholarship_info.pdf\"\n",
        "\n",
        "loader = PyPDFLoader(pdf_path)\n",
        "docs = loader.load()\n",
        "\n",
        "print(f\"✅ Loaded {len(docs)} documents (pages).\")\n"
      ],
      "metadata": {
        "colab": {
          "base_uri": "https://localhost:8080/"
        },
        "id": "fsQUjwBv4oNs",
        "outputId": "3a7e9593-1c27-49d3-c115-679a670b956b"
      },
      "execution_count": 5,
      "outputs": [
        {
          "output_type": "stream",
          "name": "stdout",
          "text": [
            "✅ Loaded 1 documents (pages).\n"
          ]
        }
      ]
    },
    {
      "cell_type": "markdown",
      "source": [
        "## ✅ Step 4: Inspect Loaded Documents\n",
        "Let’s look at the **first page** text and metadata.\n"
      ],
      "metadata": {
        "id": "u1GQ4KJi7KrB"
      }
    },
    {
      "cell_type": "code",
      "source": [
        "print(\"Sample Document Object:\\n\")\n",
        "print(docs[0])\n",
        "\n",
        "print(\"\\nMetadata of first page:\\n\", docs[0].metadata)\n",
        "print(\"\\nText Content of first page:\\n\", docs[0].page_content[:500])\n"
      ],
      "metadata": {
        "id": "-vaG2eCv7L0d",
        "outputId": "facc8ff0-a223-430f-c9ba-0366d865cba1",
        "colab": {
          "base_uri": "https://localhost:8080/"
        }
      },
      "execution_count": 6,
      "outputs": [
        {
          "output_type": "stream",
          "name": "stdout",
          "text": [
            "Sample Document Object:\n",
            "\n",
            "page_content='Title: Scholarship Information 2025 \n",
            " \n",
            "1. Eligibility: \n",
            "- Open to students in India pursuing undergraduate degrees. \n",
            "- Annual family income must be below ₹6,00,000. \n",
            "- Minimum 60% marks in the last qualifying exam. \n",
            " \n",
            "2. Documents Required: \n",
            "- Income certificate \n",
            "- Aadhaar card \n",
            "- Bank passbook \n",
            "- Marksheet \n",
            " \n",
            "3. Deadline: October 15, 2025 \n",
            " \n",
            "4. Benefits: \n",
            "- ₹10,000 per semester for tuition \n",
            "- Book allowance of ₹3,000 per year \n",
            " \n",
            "5. How to Apply: \n",
            "Visit https://scholarships.gov.in and register under the NSP portal.' metadata={'producer': 'Microsoft® Word 2019', 'creator': 'Microsoft® Word 2019', 'creationdate': '2025-08-07T19:16:29+05:30', 'author': 'Preethesh Poojary', 'moddate': '2025-08-07T19:16:29+05:30', 'source': '/content/scholarship_info.pdf', 'total_pages': 1, 'page': 0, 'page_label': '1'}\n",
            "\n",
            "Metadata of first page:\n",
            " {'producer': 'Microsoft® Word 2019', 'creator': 'Microsoft® Word 2019', 'creationdate': '2025-08-07T19:16:29+05:30', 'author': 'Preethesh Poojary', 'moddate': '2025-08-07T19:16:29+05:30', 'source': '/content/scholarship_info.pdf', 'total_pages': 1, 'page': 0, 'page_label': '1'}\n",
            "\n",
            "Text Content of first page:\n",
            " Title: Scholarship Information 2025 \n",
            " \n",
            "1. Eligibility: \n",
            "- Open to students in India pursuing undergraduate degrees. \n",
            "- Annual family income must be below ₹6,00,000. \n",
            "- Minimum 60% marks in the last qualifying exam. \n",
            " \n",
            "2. Documents Required: \n",
            "- Income certificate \n",
            "- Aadhaar card \n",
            "- Bank passbook \n",
            "- Marksheet \n",
            " \n",
            "3. Deadline: October 15, 2025 \n",
            " \n",
            "4. Benefits: \n",
            "- ₹10,000 per semester for tuition \n",
            "- Book allowance of ₹3,000 per year \n",
            " \n",
            "5. How to Apply: \n",
            "Visit https://scholarships.gov.in and register u\n"
          ]
        }
      ]
    },
    {
      "cell_type": "markdown",
      "source": [
        "## ✅ Step 5: Use Groq LLM to Summarize Document\n",
        "Now let’s ask Groq’s **LLaMA-3** model to summarize the first page.  \n"
      ],
      "metadata": {
        "id": "ifbQGpPM7Pt8"
      }
    },
    {
      "cell_type": "code",
      "source": [
        "from langchain_groq import ChatGroq\n",
        "\n",
        "llm = ChatGroq(\n",
        "    model=\"openai/gpt-oss-20b\",\n",
        "    api_key=GROQ_API_KEY,\n",
        "    temperature=0.3,\n",
        "    max_tokens=200\n",
        ")\n",
        "\n",
        "sample_text = docs[0].page_content\n",
        "\n",
        "summary = llm.invoke(f\"Summarize this text in 3 bullet points:\\n\\n{sample_text}\")\n",
        "print(\"Groq LLM Summary:\\n\", summary.content)\n"
      ],
      "metadata": {
        "id": "Wz8WgIJS7Qqp",
        "colab": {
          "base_uri": "https://localhost:8080/"
        },
        "outputId": "777c6b6d-9af4-4af2-f002-cdacd4d9043f"
      },
      "execution_count": 7,
      "outputs": [
        {
          "output_type": "stream",
          "name": "stdout",
          "text": [
            "Groq LLM Summary:\n",
            " - **Eligibility & Requirements**: Open to Indian undergraduates with family income < ₹6,00,000 and ≥ 60 % marks; must submit income certificate, Aadhaar, bank passbook, and marksheet.  \n",
            "- **Benefits**: ₹10,000 per semester toward tuition plus a ₹3,000 annual book allowance.  \n",
            "- **Application**: Deadline 15 Oct 2025; apply via https://scholarships.gov.in by registering on the NSP portal.\n"
          ]
        }
      ]
    },
    {
      "cell_type": "markdown",
      "source": [
        "## 📝 Exercise\n",
        "1. Load a different PDF (e.g., your course notes) and extract metadata.  \n",
        "2. Modify the summarization prompt to generate:\n",
        "   - A **title** for the document.  \n",
        "   - A **FAQ-style summary**.  \n",
        "3. Compare results using models:\n",
        "   - `llama3-8b-8192`  \n",
        "   - `mixtral-8x7b-32768`  \n"
      ],
      "metadata": {
        "id": "pEKl03Tj-MIK"
      }
    },
    {
      "cell_type": "markdown",
      "source": [
        "## 🎯 Summary\n",
        "- Learned how to load PDFs using `PyPDFLoader`.  \n",
        "- Explored document objects (content + metadata).  \n",
        "- Used Groq LLM to summarize loaded text.  \n",
        "\n",
        "**Next Notebook → Text Splitting & Preprocessing**  \n"
      ],
      "metadata": {
        "id": "KaIViQAq-RGW"
      }
    }
  ]
}