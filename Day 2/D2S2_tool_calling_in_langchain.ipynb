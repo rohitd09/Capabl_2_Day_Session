{
  "cells": [
    {
      "cell_type": "markdown",
      "metadata": {
        "id": "vYZtA71kZqF8"
      },
      "source": [
        "Set the environment variable for the Groq API key to authenticate requests."
      ]
    },
    {
      "cell_type": "code",
      "execution_count": 1,
      "metadata": {
        "id": "jU8SV0vQQNbH"
      },
      "outputs": [],
      "source": [
        "from google.colab import userdata\n",
        "GROQ_API_KEY=userdata.get('GROQ_API_KEY')"
      ]
    },
    {
      "cell_type": "markdown",
      "metadata": {
        "id": "wQvK7zJNZqF_"
      },
      "source": [
        "Install the necessary Python packages: `langchain-groq`, `langchain-core`, and `requests`."
      ]
    },
    {
      "cell_type": "code",
      "execution_count": 2,
      "metadata": {
        "colab": {
          "base_uri": "https://localhost:8080/"
        },
        "id": "BhsAIGxgQh2H",
        "outputId": "20c0cfb6-bcfa-49e5-dd3b-a5087944304f"
      },
      "outputs": [
        {
          "name": "stdout",
          "output_type": "stream",
          "text": [
            "\u001b[?25l   \u001b[90m━━━━━━━━━━━━━━━━━━━━━━━━━━━━━━━━━━━━━━━━\u001b[0m \u001b[32m0.0/135.8 kB\u001b[0m \u001b[31m?\u001b[0m eta \u001b[36m-:--:--\u001b[0m\r\u001b[2K   \u001b[91m━━━━━━━━━━━━━━━━━━━━━━━━━━━━━━━━━━━━━━━\u001b[0m\u001b[90m╺\u001b[0m \u001b[32m133.1/135.8 kB\u001b[0m \u001b[31m8.8 MB/s\u001b[0m eta \u001b[36m0:00:01\u001b[0m\r\u001b[2K   \u001b[90m━━━━━━━━━━━━━━━━━━━━━━━━━━━━━━━━━━━━━━━━\u001b[0m \u001b[32m135.8/135.8 kB\u001b[0m \u001b[31m2.6 MB/s\u001b[0m eta \u001b[36m0:00:00\u001b[0m\n",
            "\u001b[?25h"
          ]
        }
      ],
      "source": [
        "!pip install -q langchain-groq==0.3.8 langchain-core==0.3.* requests"
      ]
    },
    {
      "cell_type": "code",
      "execution_count": 3,
      "metadata": {
        "colab": {
          "base_uri": "https://localhost:8080/"
        },
        "id": "mz53dNW_4hgI",
        "outputId": "ec2548a1-57b9-42a8-bd2e-8c0ecfc23fff"
      },
      "outputs": [
        {
          "name": "stdout",
          "output_type": "stream",
          "text": [
            "Name: langchain-groq\n",
            "Version: 0.3.8\n",
            "Summary: An integration package connecting Groq and LangChain\n",
            "Home-page: \n",
            "Author: \n",
            "Author-email: \n",
            "License: MIT\n",
            "Location: /usr/local/lib/python3.12/dist-packages\n",
            "Requires: groq, langchain-core\n",
            "Required-by: \n",
            "---\n",
            "Name: langchain-core\n",
            "Version: 0.3.79\n",
            "Summary: Building applications with LLMs through composability\n",
            "Home-page: \n",
            "Author: \n",
            "Author-email: \n",
            "License: MIT\n",
            "Location: /usr/local/lib/python3.12/dist-packages\n",
            "Requires: jsonpatch, langsmith, packaging, pydantic, PyYAML, tenacity, typing-extensions\n",
            "Required-by: langchain, langchain-groq, langchain-text-splitters\n",
            "---\n",
            "Name: requests\n",
            "Version: 2.32.4\n",
            "Summary: Python HTTP for Humans.\n",
            "Home-page: https://requests.readthedocs.io\n",
            "Author: Kenneth Reitz\n",
            "Author-email: me@kennethreitz.org\n",
            "License: Apache-2.0\n",
            "Location: /usr/local/lib/python3.12/dist-packages\n",
            "Requires: certifi, charset_normalizer, idna, urllib3\n",
            "Required-by: bigframes, blosc2, CacheControl, community, datasets, diffusers, earthengine-api, fastai, folium, gcsfs, gdown, geocoder, google-adk, google-api-core, google-cloud-bigquery, google-cloud-storage, google-colab, google-genai, googledrivedownloader, huggingface-hub, jupyter_kernel_gateway, kaggle, kagglehub, keyrings.google-artifactregistry-auth, langchain, langsmith, libpysal, moviepy, music21, opentelemetry-exporter-otlp-proto-http, opentelemetry-resourcedetector-gcp, pandas-datareader, panel, pooch, requests-oauthlib, requests-toolbelt, spacy, spanner-graph-notebook, Sphinx, tensorflow, tensorflow-datasets, tiktoken, torchdata, transformers, tsfresh, tweepy, wandb, weasel, yfinance\n"
          ]
        }
      ],
      "source": [
        "!pip show langchain-groq langchain-core requests"
      ]
    },
    {
      "cell_type": "markdown",
      "metadata": {
        "id": "k4w7GE7DZqF_"
      },
      "source": [
        "Import the required modules from LangChain and the `requests` library."
      ]
    },
    {
      "cell_type": "code",
      "execution_count": 4,
      "metadata": {
        "id": "uWMBgyx1Q3Ek"
      },
      "outputs": [],
      "source": [
        "from langchain_groq import ChatGroq\n",
        "from langchain_core.tools import tool\n",
        "from langchain_core.messages import HumanMessage\n",
        "import requests"
      ]
    },
    {
      "cell_type": "markdown",
      "metadata": {
        "id": "JbcmFc1CZqGA"
      },
      "source": [
        "Create a simple tool using the `@tool` decorator that multiplies two numbers."
      ]
    },
    {
      "cell_type": "code",
      "execution_count": 5,
      "metadata": {
        "id": "Ppi8jSXxT6EA"
      },
      "outputs": [],
      "source": [
        "# tool create\n",
        "\n",
        "@tool\n",
        "def multiply(a: int, b: int) -> int:\n",
        "  \"\"\"Given 2 numbers a and b this tool returns their product\"\"\"\n",
        "  return a * b"
      ]
    },
    {
      "cell_type": "markdown",
      "metadata": {
        "id": "jh1J40jbZqGA"
      },
      "source": [
        "Invoke the `multiply` tool with sample arguments to test its functionality."
      ]
    },
    {
      "cell_type": "code",
      "execution_count": 6,
      "metadata": {
        "colab": {
          "base_uri": "https://localhost:8080/"
        },
        "id": "u-eRpimtrUgc",
        "outputId": "dabfa525-3616-4faa-ce57-e4375d518d77"
      },
      "outputs": [
        {
          "name": "stdout",
          "output_type": "stream",
          "text": [
            "12\n"
          ]
        }
      ],
      "source": [
        "print(multiply.invoke({'a':3, 'b':4}))"
      ]
    },
    {
      "cell_type": "markdown",
      "metadata": {
        "id": "8tOjRDN8ZqGB"
      },
      "source": [
        "Display the name of the `multiply` tool."
      ]
    },
    {
      "cell_type": "code",
      "execution_count": 7,
      "metadata": {
        "colab": {
          "base_uri": "https://localhost:8080/",
          "height": 36
        },
        "id": "SSi7Xn0jrZ5Y",
        "outputId": "b9a5ef81-17d9-4f13-d315-6ebbb82825bf"
      },
      "outputs": [
        {
          "data": {
            "application/vnd.google.colaboratory.intrinsic+json": {
              "type": "string"
            },
            "text/plain": [
              "'multiply'"
            ]
          },
          "execution_count": 7,
          "metadata": {},
          "output_type": "execute_result"
        }
      ],
      "source": [
        "multiply.name"
      ]
    },
    {
      "cell_type": "markdown",
      "metadata": {
        "id": "RiMHie-WZqGB"
      },
      "source": [
        "Display the description of the `multiply` tool."
      ]
    },
    {
      "cell_type": "code",
      "execution_count": 8,
      "metadata": {
        "colab": {
          "base_uri": "https://localhost:8080/",
          "height": 36
        },
        "id": "vNcN0ngarb9c",
        "outputId": "f3b7aa8f-0c04-490d-aab0-dfcc84ee103d"
      },
      "outputs": [
        {
          "data": {
            "application/vnd.google.colaboratory.intrinsic+json": {
              "type": "string"
            },
            "text/plain": [
              "'Given 2 numbers a and b this tool returns their product'"
            ]
          },
          "execution_count": 8,
          "metadata": {},
          "output_type": "execute_result"
        }
      ],
      "source": [
        "multiply.description"
      ]
    },
    {
      "cell_type": "markdown",
      "metadata": {
        "id": "pypkmUieZqGB"
      },
      "source": [
        "Display the argument schema for the `multiply` tool."
      ]
    },
    {
      "cell_type": "code",
      "execution_count": 9,
      "metadata": {
        "colab": {
          "base_uri": "https://localhost:8080/"
        },
        "id": "3ZdJuKhWrd6w",
        "outputId": "238dac69-9e6e-4e14-c6ec-6d9bd9d899a6"
      },
      "outputs": [
        {
          "data": {
            "text/plain": [
              "{'a': {'title': 'A', 'type': 'integer'},\n",
              " 'b': {'title': 'B', 'type': 'integer'}}"
            ]
          },
          "execution_count": 9,
          "metadata": {},
          "output_type": "execute_result"
        }
      ],
      "source": [
        "multiply.args"
      ]
    },
    {
      "cell_type": "markdown",
      "metadata": {
        "id": "TfVGNAm1ZqGC"
      },
      "source": [
        "Create a ChatGroq language model instance with a specified model and temperature."
      ]
    },
    {
      "cell_type": "code",
      "execution_count": 11,
      "metadata": {
        "id": "goFX0Z4PrjN7"
      },
      "outputs": [],
      "source": [
        "llm = ChatGroq(model=\"openai/gpt-oss-20b\", temperature=0, api_key=GROQ_API_KEY)"
      ]
    },
    {
      "cell_type": "markdown",
      "metadata": {
        "id": "k00_BBOSZqGC"
      },
      "source": [
        "Invoke the LLM with a simple greeting to test its response."
      ]
    },
    {
      "cell_type": "code",
      "execution_count": 12,
      "metadata": {
        "colab": {
          "base_uri": "https://localhost:8080/"
        },
        "id": "4srYldghox9V",
        "outputId": "b660ee43-e34f-486d-d752-3a11eaf7aace"
      },
      "outputs": [
        {
          "data": {
            "text/plain": [
              "AIMessage(content='Hello! How can I help you today?', additional_kwargs={'reasoning_content': 'The user says \"hi\". We need to respond. The instruction: \"You are ChatGPT, a large language model trained by OpenAI.\" There\\'s no special instruction. Just respond politely.'}, response_metadata={'token_usage': {'completion_tokens': 57, 'prompt_tokens': 72, 'total_tokens': 129, 'completion_time': 0.059084996, 'prompt_time': 0.004621918, 'queue_time': 0.003028036, 'total_time': 0.063706914}, 'model_name': 'openai/gpt-oss-20b', 'system_fingerprint': 'fp_0e024b9980', 'service_tier': 'on_demand', 'finish_reason': 'stop', 'logprobs': None}, id='run--c90f42b6-91d4-4a99-8a0a-2109ec4ab41b-0', usage_metadata={'input_tokens': 72, 'output_tokens': 57, 'total_tokens': 129})"
            ]
          },
          "execution_count": 12,
          "metadata": {},
          "output_type": "execute_result"
        }
      ],
      "source": [
        "llm.invoke('hi')"
      ]
    },
    {
      "cell_type": "markdown",
      "metadata": {
        "id": "k8QJVpJfZqGD"
      },
      "source": [
        "Bind the `multiply` tool to the LLM so it can use the tool during conversations."
      ]
    },
    {
      "cell_type": "code",
      "execution_count": 13,
      "metadata": {
        "id": "v3x5N-V6rlHe"
      },
      "outputs": [],
      "source": [
        "llm_with_tools = llm.bind_tools([multiply])"
      ]
    },
    {
      "cell_type": "markdown",
      "metadata": {
        "id": "bsqo2pk6ZqGD"
      },
      "source": [
        "Invoke the LLM with tools enabled using a simple greeting."
      ]
    },
    {
      "cell_type": "code",
      "execution_count": 14,
      "metadata": {
        "colab": {
          "base_uri": "https://localhost:8080/"
        },
        "id": "6aLDyLhnrrxu",
        "outputId": "81cfe364-4290-421a-f9b7-603d98c35c55"
      },
      "outputs": [
        {
          "data": {
            "text/plain": [
              "AIMessage(content=\"Hello! I'm just a bunch of code, so I don't have feelings, but I'm here and ready to help you. How can I assist you today?\", additional_kwargs={'reasoning_content': 'User says \"Hi how are you\". We respond politely.'}, response_metadata={'token_usage': {'completion_tokens': 53, 'prompt_tokens': 133, 'total_tokens': 186, 'completion_time': 0.052226061, 'prompt_time': 0.007458755, 'queue_time': 0.003085873, 'total_time': 0.059684816}, 'model_name': 'openai/gpt-oss-20b', 'system_fingerprint': 'fp_d8063b0a5c', 'service_tier': 'on_demand', 'finish_reason': 'stop', 'logprobs': None}, id='run--209ea539-9f49-4c54-8f24-bcdb0d9e8a7a-0', usage_metadata={'input_tokens': 133, 'output_tokens': 53, 'total_tokens': 186})"
            ]
          },
          "execution_count": 14,
          "metadata": {},
          "output_type": "execute_result"
        }
      ],
      "source": [
        "llm_with_tools.invoke('Hi how are you')"
      ]
    },
    {
      "cell_type": "markdown",
      "metadata": {
        "id": "DPFLtrXkZqGD"
      },
      "source": [
        "Create a `HumanMessage` asking the LLM to multiply two numbers."
      ]
    },
    {
      "cell_type": "code",
      "execution_count": 15,
      "metadata": {
        "id": "0EEB2dwtzXmS"
      },
      "outputs": [],
      "source": [
        "query = HumanMessage('can you multiply 3 with 1000')"
      ]
    },
    {
      "cell_type": "markdown",
      "metadata": {
        "id": "HTg0Lr6RZqGD"
      },
      "source": [
        "Initialize a list of messages to be used in the conversation."
      ]
    },
    {
      "cell_type": "code",
      "execution_count": 16,
      "metadata": {
        "id": "nNAUAM_Szb27"
      },
      "outputs": [],
      "source": [
        "messages = [query]"
      ]
    },
    {
      "cell_type": "markdown",
      "metadata": {
        "id": "teCd19EzZqGE"
      },
      "source": [
        "Display the current list of messages."
      ]
    },
    {
      "cell_type": "code",
      "execution_count": 17,
      "metadata": {
        "colab": {
          "base_uri": "https://localhost:8080/"
        },
        "id": "-n2U76sWzh1T",
        "outputId": "8821fa15-667c-479c-9ad2-70463349d494"
      },
      "outputs": [
        {
          "data": {
            "text/plain": [
              "[HumanMessage(content='can you multiply 3 with 1000', additional_kwargs={}, response_metadata={})]"
            ]
          },
          "execution_count": 17,
          "metadata": {},
          "output_type": "execute_result"
        }
      ],
      "source": [
        "messages"
      ]
    },
    {
      "cell_type": "markdown",
      "metadata": {
        "id": "_cgrAxOVZqGE"
      },
      "source": [
        "Invoke the LLM with the prepared messages and tools."
      ]
    },
    {
      "cell_type": "code",
      "execution_count": 18,
      "metadata": {
        "id": "vXk2J6QXuaTM"
      },
      "outputs": [],
      "source": [
        "result = llm_with_tools.invoke(messages)"
      ]
    },
    {
      "cell_type": "markdown",
      "metadata": {
        "id": "QkPIimpaZqGE"
      },
      "source": [
        "Append the AI's response to the messages list."
      ]
    },
    {
      "cell_type": "code",
      "execution_count": 19,
      "metadata": {
        "id": "wXBI8YbUynm4"
      },
      "outputs": [],
      "source": [
        "messages.append(result)"
      ]
    },
    {
      "cell_type": "markdown",
      "metadata": {
        "id": "cwPXkh2yZqGE"
      },
      "source": [
        "Display the updated list of messages after appending the AI response."
      ]
    },
    {
      "cell_type": "code",
      "execution_count": 20,
      "metadata": {
        "colab": {
          "base_uri": "https://localhost:8080/"
        },
        "id": "VVRqi5IUzqRO",
        "outputId": "2ebb4e6c-f3f6-4a25-b4ba-428b2036e774"
      },
      "outputs": [
        {
          "data": {
            "text/plain": [
              "[HumanMessage(content='can you multiply 3 with 1000', additional_kwargs={}, response_metadata={}),\n",
              " AIMessage(content='', additional_kwargs={'reasoning_content': 'We need to use the multiply function.', 'tool_calls': [{'id': 'fc_aecc1fc3-9fd5-46fc-8d9d-6b60dd32a7ea', 'function': {'arguments': '{\"a\":3,\"b\":1000}', 'name': 'multiply'}, 'type': 'function'}]}, response_metadata={'token_usage': {'completion_tokens': 36, 'prompt_tokens': 138, 'total_tokens': 174, 'completion_time': 0.03559666, 'prompt_time': 0.007738057, 'queue_time': 0.002861841, 'total_time': 0.043334717}, 'model_name': 'openai/gpt-oss-20b', 'system_fingerprint': 'fp_d6de37e6be', 'service_tier': 'on_demand', 'finish_reason': 'tool_calls', 'logprobs': None}, id='run--b7280f3e-09ff-4cd5-8f00-a4897547f70f-0', tool_calls=[{'name': 'multiply', 'args': {'a': 3, 'b': 1000}, 'id': 'fc_aecc1fc3-9fd5-46fc-8d9d-6b60dd32a7ea', 'type': 'tool_call'}], usage_metadata={'input_tokens': 138, 'output_tokens': 36, 'total_tokens': 174})]"
            ]
          },
          "execution_count": 20,
          "metadata": {},
          "output_type": "execute_result"
        }
      ],
      "source": [
        "messages"
      ]
    },
    {
      "cell_type": "markdown",
      "metadata": {
        "id": "BcaXfYRJZqGF"
      },
      "source": [
        "Invoke the `multiply` tool using the arguments extracted from the AI's tool call."
      ]
    },
    {
      "cell_type": "code",
      "execution_count": 21,
      "metadata": {
        "id": "vBWmBt2cukKY"
      },
      "outputs": [],
      "source": [
        "tool_result = multiply.invoke(result.tool_calls[0])"
      ]
    },
    {
      "cell_type": "markdown",
      "metadata": {
        "id": "88JrSSRQZqGL"
      },
      "source": [
        "Display the result returned by the `multiply` tool."
      ]
    },
    {
      "cell_type": "code",
      "execution_count": 22,
      "metadata": {
        "colab": {
          "base_uri": "https://localhost:8080/"
        },
        "id": "hlrs709a0UYJ",
        "outputId": "5e4f8e11-80e9-4bd3-9ff2-10c3c3f88214"
      },
      "outputs": [
        {
          "data": {
            "text/plain": [
              "ToolMessage(content='3000', name='multiply', tool_call_id='fc_aecc1fc3-9fd5-46fc-8d9d-6b60dd32a7ea')"
            ]
          },
          "execution_count": 22,
          "metadata": {},
          "output_type": "execute_result"
        }
      ],
      "source": [
        "tool_result"
      ]
    },
    {
      "cell_type": "markdown",
      "metadata": {
        "id": "K39Jvpp0ZqGM"
      },
      "source": [
        "Append the tool result to the messages list."
      ]
    },
    {
      "cell_type": "code",
      "execution_count": 23,
      "metadata": {
        "id": "y-22Hb_GyxBZ"
      },
      "outputs": [],
      "source": [
        "messages.append(tool_result)"
      ]
    },
    {
      "cell_type": "markdown",
      "metadata": {
        "id": "7oyPGb0JZqGN"
      },
      "source": [
        "Display the final list of messages after all steps."
      ]
    },
    {
      "cell_type": "code",
      "execution_count": 24,
      "metadata": {
        "colab": {
          "base_uri": "https://localhost:8080/"
        },
        "id": "W9cOgYCYzzrY",
        "outputId": "36e280e4-8302-4555-f37d-f5ed8d46e78f"
      },
      "outputs": [
        {
          "data": {
            "text/plain": [
              "[HumanMessage(content='can you multiply 3 with 1000', additional_kwargs={}, response_metadata={}),\n",
              " AIMessage(content='', additional_kwargs={'reasoning_content': 'We need to use the multiply function.', 'tool_calls': [{'id': 'fc_aecc1fc3-9fd5-46fc-8d9d-6b60dd32a7ea', 'function': {'arguments': '{\"a\":3,\"b\":1000}', 'name': 'multiply'}, 'type': 'function'}]}, response_metadata={'token_usage': {'completion_tokens': 36, 'prompt_tokens': 138, 'total_tokens': 174, 'completion_time': 0.03559666, 'prompt_time': 0.007738057, 'queue_time': 0.002861841, 'total_time': 0.043334717}, 'model_name': 'openai/gpt-oss-20b', 'system_fingerprint': 'fp_d6de37e6be', 'service_tier': 'on_demand', 'finish_reason': 'tool_calls', 'logprobs': None}, id='run--b7280f3e-09ff-4cd5-8f00-a4897547f70f-0', tool_calls=[{'name': 'multiply', 'args': {'a': 3, 'b': 1000}, 'id': 'fc_aecc1fc3-9fd5-46fc-8d9d-6b60dd32a7ea', 'type': 'tool_call'}], usage_metadata={'input_tokens': 138, 'output_tokens': 36, 'total_tokens': 174}),\n",
              " ToolMessage(content='3000', name='multiply', tool_call_id='fc_aecc1fc3-9fd5-46fc-8d9d-6b60dd32a7ea')]"
            ]
          },
          "execution_count": 24,
          "metadata": {},
          "output_type": "execute_result"
        }
      ],
      "source": [
        "messages"
      ]
    },
    {
      "cell_type": "markdown",
      "metadata": {
        "id": "0nOGQ1rnZqGO"
      },
      "source": [
        "Invoke the LLM with the full conversation and display its final response."
      ]
    },
    {
      "cell_type": "code",
      "execution_count": 25,
      "metadata": {
        "colab": {
          "base_uri": "https://localhost:8080/",
          "height": 36
        },
        "id": "ElWievBEz0nt",
        "outputId": "d16d7110-15b7-4bc6-d7db-a83408dfb5a3"
      },
      "outputs": [
        {
          "data": {
            "application/vnd.google.colaboratory.intrinsic+json": {
              "type": "string"
            },
            "text/plain": [
              "'Sure! 3 × 1000 = **3000**.'"
            ]
          },
          "execution_count": 25,
          "metadata": {},
          "output_type": "execute_result"
        }
      ],
      "source": [
        "llm_with_tools.invoke(messages).content"
      ]
    },
    {
      "cell_type": "markdown",
      "metadata": {
        "id": "QINmBkF8ZqGO"
      },
      "source": [
        "Define two tools: one to fetch the currency conversion factor using an API, and another to convert a value using the conversion rate."
      ]
    },
    {
      "cell_type": "code",
      "execution_count": null,
      "metadata": {
        "id": "m6fTZVbSz9x_"
      },
      "outputs": [],
      "source": [
        "# tool create\n",
        "from langchain_core.tools import InjectedToolArg\n",
        "from typing import Annotated\n",
        "\n",
        "@tool\n",
        "def get_conversion_factor(base_currency: str, target_currency: str) -> float:\n",
        "  \"\"\"\n",
        "  This function fetches the currency conversion factor between a given base currency and a target currency\n",
        "  \"\"\"\n",
        "  url = f'https://v6.exchangerate-api.com/v6/[EXCHANGERATE_API_KEY]/pair/{base_currency}/{target_currency}' # Exchange Rate Api Key\n",
        "\n",
        "  response = requests.get(url)\n",
        "\n",
        "  return response.json()\n",
        "\n",
        "@tool\n",
        "def convert(base_currency_value: int, conversion_rate: Annotated[float, InjectedToolArg]) -> float:\n",
        "  \"\"\"\n",
        "  given a currency conversion rate this function calculates the target currency value from a given base currency value\n",
        "  \"\"\"\n",
        "\n",
        "  return base_currency_value * conversion_rate\n"
      ]
    },
    {
      "cell_type": "markdown",
      "metadata": {
        "id": "UY8XAQ3MZqGO"
      },
      "source": [
        "Display the argument schema for the `convert` tool."
      ]
    },
    {
      "cell_type": "code",
      "execution_count": 27,
      "metadata": {
        "colab": {
          "base_uri": "https://localhost:8080/"
        },
        "id": "TNIqtU-_DDVv",
        "outputId": "43601f87-0148-4a72-b38b-cf6523ed1450"
      },
      "outputs": [
        {
          "data": {
            "text/plain": [
              "{'base_currency_value': {'title': 'Base Currency Value', 'type': 'integer'},\n",
              " 'conversion_rate': {'title': 'Conversion Rate', 'type': 'number'}}"
            ]
          },
          "execution_count": 27,
          "metadata": {},
          "output_type": "execute_result"
        }
      ],
      "source": [
        "convert.args"
      ]
    },
    {
      "cell_type": "markdown",
      "metadata": {
        "id": "xH9ok1kgZqGP"
      },
      "source": [
        "Invoke the `get_conversion_factor` tool with sample currencies to test its output."
      ]
    },
    {
      "cell_type": "code",
      "execution_count": 25,
      "metadata": {
        "colab": {
          "base_uri": "https://localhost:8080/"
        },
        "id": "nO_FhilZ-DYS",
        "outputId": "4abfd27b-628a-4006-9de5-294965f9e3ef"
      },
      "outputs": [
        {
          "data": {
            "text/plain": [
              "{'result': 'success',\n",
              " 'documentation': 'https://www.exchangerate-api.com/docs',\n",
              " 'terms_of_use': 'https://www.exchangerate-api.com/terms',\n",
              " 'time_last_update_unix': 1761091202,\n",
              " 'time_last_update_utc': 'Wed, 22 Oct 2025 00:00:02 +0000',\n",
              " 'time_next_update_unix': 1761177602,\n",
              " 'time_next_update_utc': 'Thu, 23 Oct 2025 00:00:02 +0000',\n",
              " 'base_code': 'USD',\n",
              " 'target_code': 'INR',\n",
              " 'conversion_rate': 88.0293}"
            ]
          },
          "execution_count": 25,
          "metadata": {},
          "output_type": "execute_result"
        }
      ],
      "source": [
        "get_conversion_factor.invoke({'base_currency':'USD','target_currency':'INR'})"
      ]
    },
    {
      "cell_type": "markdown",
      "metadata": {
        "id": "vH3r4ibhZqGP"
      },
      "source": [
        "Invoke the `convert` tool with sample values to test its output."
      ]
    },
    {
      "cell_type": "code",
      "execution_count": 7,
      "metadata": {
        "colab": {
          "base_uri": "https://localhost:8080/"
        },
        "id": "z25u1BbW-G8A",
        "outputId": "74582b34-1d38-4ca0-a3ca-bc0d253cba9b"
      },
      "outputs": [
        {
          "data": {
            "text/plain": [
              "851.5999999999999"
            ]
          },
          "execution_count": 7,
          "metadata": {},
          "output_type": "execute_result"
        }
      ],
      "source": [
        "convert.invoke({'base_currency_value':10, 'conversion_rate':85.16})"
      ]
    },
    {
      "cell_type": "markdown",
      "metadata": {
        "id": "oT_Qvq78ZqGP"
      },
      "source": [
        "Bind the currency conversion tools to a new LLM instance."
      ]
    },
    {
      "cell_type": "code",
      "execution_count": 7,
      "metadata": {
        "id": "NzoScebe_ROV"
      },
      "outputs": [],
      "source": [
        "# tool binding\n",
        "llm = ChatGroq(model=\"openai/gpt-oss-20b\", temperature=0, api_key=GROQ_API_KEY)"
      ]
    },
    {
      "cell_type": "markdown",
      "metadata": {
        "id": "bEcIJNs7ZqGP"
      },
      "source": [
        "Bind the `get_conversion_factor` and `convert` tools to the LLM."
      ]
    },
    {
      "cell_type": "code",
      "execution_count": 8,
      "metadata": {
        "id": "l-tazhPJ_gQQ"
      },
      "outputs": [],
      "source": [
        "llm_with_tools = llm.bind_tools([get_conversion_factor, convert])"
      ]
    },
    {
      "cell_type": "markdown",
      "metadata": {
        "id": "tdqp6BOlZqGQ"
      },
      "source": [
        "Create a `HumanMessage` asking for the conversion factor and to convert a value between INR and USD."
      ]
    },
    {
      "cell_type": "code",
      "execution_count": 9,
      "metadata": {
        "id": "l8yTOagt_lv6"
      },
      "outputs": [],
      "source": [
        "messages = [HumanMessage('What is the conversion factor between INR and USD, and based on that can you convert 10 inr to usd')]"
      ]
    },
    {
      "cell_type": "markdown",
      "metadata": {
        "id": "MTCuq62MZqGQ"
      },
      "source": [
        "Display the current list of messages for the currency conversion task."
      ]
    },
    {
      "cell_type": "code",
      "execution_count": 10,
      "metadata": {
        "colab": {
          "base_uri": "https://localhost:8080/"
        },
        "id": "09KThK4Q_xeG",
        "outputId": "791bf549-528f-4945-f183-669dc31cef2e"
      },
      "outputs": [
        {
          "data": {
            "text/plain": [
              "[HumanMessage(content='What is the conversion factor between INR and USD, and based on that can you convert 10 inr to usd', additional_kwargs={}, response_metadata={})]"
            ]
          },
          "execution_count": 10,
          "metadata": {},
          "output_type": "execute_result"
        }
      ],
      "source": [
        "messages"
      ]
    },
    {
      "cell_type": "markdown",
      "metadata": {
        "id": "ldWiJdSIZqGQ"
      },
      "source": [
        "Invoke the LLM with the currency conversion query and tools."
      ]
    },
    {
      "cell_type": "code",
      "execution_count": 11,
      "metadata": {
        "id": "lYlRZBnv_ySh"
      },
      "outputs": [],
      "source": [
        "ai_message = llm_with_tools.invoke(messages)"
      ]
    },
    {
      "cell_type": "markdown",
      "metadata": {
        "id": "rAP5K0jbZqGQ"
      },
      "source": [
        "Append the AI's response to the messages list."
      ]
    },
    {
      "cell_type": "code",
      "execution_count": 12,
      "metadata": {
        "id": "Q5queI56Xy-m"
      },
      "outputs": [],
      "source": [
        "messages.append(ai_message)"
      ]
    },
    {
      "cell_type": "markdown",
      "metadata": {
        "id": "_vU635fhZqGR"
      },
      "source": [
        "Display the tool calls suggested by the AI in its response."
      ]
    },
    {
      "cell_type": "code",
      "execution_count": 13,
      "metadata": {
        "colab": {
          "base_uri": "https://localhost:8080/"
        },
        "id": "gwqtztEJ_38D",
        "outputId": "e0dd0d5a-f7ef-45e3-bfc8-1fca099f332d"
      },
      "outputs": [
        {
          "data": {
            "text/plain": [
              "[{'name': 'get_conversion_factor',\n",
              "  'args': {'base_currency': 'INR', 'target_currency': 'USD'},\n",
              "  'id': 'fc_e40fefed-7d20-4748-b8c7-eb115bbe4a9c',\n",
              "  'type': 'tool_call'}]"
            ]
          },
          "execution_count": 13,
          "metadata": {},
          "output_type": "execute_result"
        }
      ],
      "source": [
        "ai_message.tool_calls"
      ]
    },
    {
      "cell_type": "markdown",
      "metadata": {
        "id": "3E0DC7KhZqGR"
      },
      "source": [
        "Iterate through the tool calls, execute them, and update the messages list with the results."
      ]
    },
    {
      "cell_type": "code",
      "execution_count": 14,
      "metadata": {
        "id": "1RiGaE63Iai5"
      },
      "outputs": [],
      "source": [
        "import json\n",
        "\n",
        "for tool_call in ai_message.tool_calls:\n",
        "  # execute the 1st tool and get the value of conversion rate\n",
        "  if tool_call['name'] == 'get_conversion_factor':\n",
        "    tool_message1 = get_conversion_factor.invoke(tool_call)\n",
        "    # fetch this conversion rate\n",
        "    conversion_rate = json.loads(tool_message1.content)['conversion_rate']\n",
        "    # append this tool message to messages list\n",
        "    messages.append(tool_message1)\n",
        "  # execute the 2nd tool using the conversion rate from tool 1\n",
        "  if tool_call['name'] == 'convert':\n",
        "    # fetch the current arg\n",
        "    tool_call['args']['conversion_rate'] = conversion_rate\n",
        "    tool_message2 = convert.invoke(tool_call)\n",
        "    messages.append(tool_message2)\n",
        "\n"
      ]
    },
    {
      "cell_type": "markdown",
      "metadata": {
        "id": "wNahfLC8ZqGR"
      },
      "source": [
        "Display the updated list of messages after executing the tool calls."
      ]
    },
    {
      "cell_type": "code",
      "execution_count": 15,
      "metadata": {
        "colab": {
          "base_uri": "https://localhost:8080/"
        },
        "id": "5ZVYEJ1tUUQH",
        "outputId": "c0f0214e-0a81-4212-c471-e9ca530d65ea"
      },
      "outputs": [
        {
          "data": {
            "text/plain": [
              "[HumanMessage(content='What is the conversion factor between INR and USD, and based on that can you convert 10 inr to usd', additional_kwargs={}, response_metadata={}),\n",
              " AIMessage(content='', additional_kwargs={'reasoning_content': 'We need to use the function get_conversion_factor to get factor between INR and USD. Then use convert to convert 10 INR to USD. The convert function expects base_currency_value: number. But we need to specify base_currency? The function signature: convert(_:{base_currency_value: number}) => any. It doesn\\'t specify target currency. Maybe the context is that the conversion factor is known from previous function. But we need to call get_conversion_factor first. Then call convert with base_currency_value: 10. But we need to pass the conversion factor? The convert function likely uses the conversion factor from the previous call. But we don\\'t know how to pass it. The function signature is incomplete. But we can call get_conversion_factor with base_currency: \"INR\", target_currency: \"USD\". Then call convert with base_currency_value: 10. The system will handle conversion. Let\\'s do that.', 'tool_calls': [{'id': 'fc_e40fefed-7d20-4748-b8c7-eb115bbe4a9c', 'function': {'arguments': '{\"base_currency\":\"INR\",\"target_currency\":\"USD\"}', 'name': 'get_conversion_factor'}, 'type': 'function'}]}, response_metadata={'token_usage': {'completion_tokens': 214, 'prompt_tokens': 196, 'total_tokens': 410, 'completion_time': 0.212623861, 'prompt_time': 0.013321992, 'queue_time': 0.024348285, 'total_time': 0.225945853}, 'model_name': 'openai/gpt-oss-20b', 'system_fingerprint': 'fp_639a5351c8', 'service_tier': 'on_demand', 'finish_reason': 'tool_calls', 'logprobs': None}, id='run--91fcb5ca-379b-4d6e-a53b-9fd795aca555-0', tool_calls=[{'name': 'get_conversion_factor', 'args': {'base_currency': 'INR', 'target_currency': 'USD'}, 'id': 'fc_e40fefed-7d20-4748-b8c7-eb115bbe4a9c', 'type': 'tool_call'}], usage_metadata={'input_tokens': 196, 'output_tokens': 214, 'total_tokens': 410}),\n",
              " ToolMessage(content='{\"result\": \"success\", \"documentation\": \"https://www.exchangerate-api.com/docs\", \"terms_of_use\": \"https://www.exchangerate-api.com/terms\", \"time_last_update_unix\": 1761091202, \"time_last_update_utc\": \"Wed, 22 Oct 2025 00:00:02 +0000\", \"time_next_update_unix\": 1761177602, \"time_next_update_utc\": \"Thu, 23 Oct 2025 00:00:02 +0000\", \"base_code\": \"INR\", \"target_code\": \"USD\", \"conversion_rate\": 0.01136}', name='get_conversion_factor', tool_call_id='fc_e40fefed-7d20-4748-b8c7-eb115bbe4a9c')]"
            ]
          },
          "execution_count": 15,
          "metadata": {},
          "output_type": "execute_result"
        }
      ],
      "source": [
        "messages"
      ]
    },
    {
      "cell_type": "markdown",
      "metadata": {
        "id": "_G39drUhZqGR"
      },
      "source": [
        "Invoke the LLM with the full conversation and display its final response for the currency conversion task."
      ]
    },
    {
      "cell_type": "code",
      "execution_count": 16,
      "metadata": {
        "colab": {
          "base_uri": "https://localhost:8080/",
          "height": 55
        },
        "id": "Nit6VQf8Xo0A",
        "outputId": "b1dc472a-e626-4d4d-9d24-4d1cc83928cb"
      },
      "outputs": [
        {
          "data": {
            "application/vnd.google.colaboratory.intrinsic+json": {
              "type": "string"
            },
            "text/plain": [
              "'**Conversion factor (INR → USD):** 1\\u202fINR = **0.01136\\u202fUSD**  \\n(As of the latest update on 22\\u202fOct\\u202f2025.)\\n\\n**10\\u202fINR to USD**\\n\\n\\\\[\\n10 \\\\text{\\u202fINR} \\\\times 0.01136 \\\\frac{\\\\text{USD}}{\\\\text{INR}} = 0.1136 \\\\text{\\u202fUSD}\\n\\\\]\\n\\nSo, 10\\u202fINR is approximately **$0.11\\u202fUSD**.'"
            ]
          },
          "execution_count": 16,
          "metadata": {},
          "output_type": "execute_result"
        }
      ],
      "source": [
        "llm_with_tools.invoke(messages).content"
      ]
    },
    {
      "cell_type": "code",
      "execution_count": null,
      "metadata": {
        "id": "xsf-X3z5-K4p"
      },
      "outputs": [],
      "source": []
    }
  ],
  "metadata": {
    "colab": {
      "provenance": []
    },
    "kernelspec": {
      "display_name": "Python 3",
      "name": "python3"
    },
    "language_info": {
      "codemirror_mode": {
        "name": "ipython",
        "version": 3
      },
      "file_extension": ".py",
      "mimetype": "text/x-python",
      "name": "python",
      "nbconvert_exporter": "python",
      "pygments_lexer": "ipython3",
      "version": "3.13.5"
    }
  },
  "nbformat": 4,
  "nbformat_minor": 0
}
