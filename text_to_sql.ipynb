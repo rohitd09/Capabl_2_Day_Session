{
  "nbformat": 4,
  "nbformat_minor": 0,
  "metadata": {
    "colab": {
      "provenance": []
    },
    "kernelspec": {
      "name": "python3",
      "display_name": "Python 3"
    },
    "language_info": {
      "name": "python"
    }
  },
  "cells": [
    {
      "cell_type": "markdown",
      "source": [
        "# 🗄️Text to SQL Agent\n",
        "\n",
        "In this notebook, we'll make an AI agent to interact with your SQL database using LLMs, google's gemini in particular\n",
        "\n",
        "Your takeaway:\n",
        "1. Learn to interact with SQL using python.\n",
        "2. Create an AI Agent __without__ langchain, but using gemini directly.\n",
        "3. Learn how to let your AI agent interact with SQL, so you can use your database in normal english language."
      ],
      "metadata": {
        "id": "OKEO69WkDbPn"
      }
    },
    {
      "cell_type": "markdown",
      "source": [
        "## ⚙️ Import Dependencies\n",
        "\n",
        "We will not be using langchain in this mini-project. We'll use google library directly and also import sqlite3 for our database setup."
      ],
      "metadata": {
        "id": "dmxfUaPiEYXI"
      }
    },
    {
      "cell_type": "code",
      "source": [
        "    !pip install -q gradio"
      ],
      "metadata": {
        "id": "2RjJM6QxIOnu"
      },
      "execution_count": 1,
      "outputs": []
    },
    {
      "cell_type": "code",
      "execution_count": 2,
      "metadata": {
        "id": "3yE_NI5fAfKn"
      },
      "outputs": [],
      "source": [
        "import sqlite3\n",
        "import gradio as gr\n",
        "from google import genai"
      ]
    },
    {
      "cell_type": "code",
      "source": [
        "from google.colab import userdata\n",
        "API_KEY=userdata.get('GEMINI_API_KEY')"
      ],
      "metadata": {
        "id": "i_NKJ_XNAkXQ"
      },
      "execution_count": 3,
      "outputs": []
    },
    {
      "cell_type": "markdown",
      "source": [
        "### Configure the gemini api using the appropriate API Key."
      ],
      "metadata": {
        "id": "3s4WFj5IE7-u"
      }
    },
    {
      "cell_type": "code",
      "source": [
        "client = genai.Client(api_key=API_KEY)"
      ],
      "metadata": {
        "id": "12Uikgz2BH4P"
      },
      "execution_count": 4,
      "outputs": []
    },
    {
      "cell_type": "markdown",
      "source": [
        "### To generate a SQL query from gemini"
      ],
      "metadata": {
        "id": "XN0MwuTQFG9t"
      }
    },
    {
      "cell_type": "code",
      "source": [
        "def get_gemini_response(question, prompt):\n",
        "    response = client.models.generate_content(\n",
        "        model=\"gemini-2.5-flash\",  # Latest fast model\n",
        "        contents=[prompt[0], question]\n",
        "    )\n",
        "    return response.text.strip()"
      ],
      "metadata": {
        "id": "L7BbwrzSBMKv"
      },
      "execution_count": 5,
      "outputs": []
    },
    {
      "cell_type": "markdown",
      "source": [
        "### To execute the query given by gemini and return the response"
      ],
      "metadata": {
        "id": "z8kelp5SFKJi"
      }
    },
    {
      "cell_type": "code",
      "source": [
        "def read_sql_query(sql, db):\n",
        "    try:\n",
        "        conn = sqlite3.connect(db)\n",
        "        cur = conn.cursor()\n",
        "        cur.execute(sql)\n",
        "        rows = cur.fetchall()\n",
        "        conn.close()\n",
        "        return rows\n",
        "    except sqlite3.Error as e:\n",
        "        return [f\"SQL Error: {e}\"]"
      ],
      "metadata": {
        "id": "dcXVM4o4BOc_"
      },
      "execution_count": 20,
      "outputs": []
    },
    {
      "cell_type": "markdown",
      "source": [
        "### Add dummy data to Student table in student.db"
      ],
      "metadata": {
        "id": "V8k9DnKGFWbH"
      }
    },
    {
      "cell_type": "code",
      "source": [
        "def create_student_db():\n",
        "    conn = sqlite3.connect('student.db')\n",
        "    cursor = conn.cursor()\n",
        "\n",
        "    cursor.execute('''\n",
        "    CREATE TABLE IF NOT EXISTS STUDENT (\n",
        "        NAME TEXT NOT NULL,\n",
        "        CLASS TEXT NOT NULL,\n",
        "        SECTION TEXT NOT NULL\n",
        "    )\n",
        "    ''')\n",
        "\n",
        "    students = [\n",
        "        ('Alice', 'Data Science', 'A'),\n",
        "        ('Bob', 'Computer Science', 'B'),\n",
        "        ('Charlie', 'Data Science', 'B'),\n",
        "        ('David', 'Mathematics', 'A')\n",
        "    ]\n",
        "\n",
        "    cursor.executemany('INSERT INTO STUDENT (NAME, CLASS, SECTION) VALUES (?, ?, ?)', students)\n",
        "\n",
        "    conn.commit()\n",
        "    conn.close()\n",
        "    print(\"student.db created with STUDENT table and example data.\")"
      ],
      "metadata": {
        "id": "DFFr3VNWCu8v"
      },
      "execution_count": 21,
      "outputs": []
    },
    {
      "cell_type": "markdown",
      "source": [
        "### Prompt to generate the query (few-shot prompting)."
      ],
      "metadata": {
        "id": "oMpRZoiRFch7"
      }
    },
    {
      "cell_type": "code",
      "source": [
        "prompt = [\n",
        "    \"\"\"\n",
        "    You are an expert in converting English questions to SQL query!\n",
        "    The SQL database has the name STUDENT and has the following columns:\n",
        "    NAME, CLASS, SECTION.\n",
        "\n",
        "    Example 1 - How many entries of records are present?\n",
        "    SQL: SELECT COUNT(*) FROM STUDENT;\n",
        "\n",
        "    Example 2 - Tell me all the students studying in Data Science class?\n",
        "    SQL: SELECT * FROM STUDENT WHERE CLASS=\"Data Science\";\n",
        "\n",
        "    Rules:\n",
        "    - Only output valid SQL\n",
        "    - Do NOT include ``` or 'sql' markers\n",
        "    - SQL should be ready to run directly\n",
        "    \"\"\"\n",
        "]"
      ],
      "metadata": {
        "id": "HEZ9nzhbBP8v"
      },
      "execution_count": 22,
      "outputs": []
    },
    {
      "cell_type": "code",
      "source": [
        "create_student_db()"
      ],
      "metadata": {
        "colab": {
          "base_uri": "https://localhost:8080/"
        },
        "id": "jwfmuMoEC1u6",
        "outputId": "ad9b3844-ccf9-4040-fe0b-d4718f76478e"
      },
      "execution_count": 23,
      "outputs": [
        {
          "output_type": "stream",
          "name": "stdout",
          "text": [
            "student.db created with STUDENT table and example data.\n"
          ]
        }
      ]
    },
    {
      "cell_type": "markdown",
      "source": [
        "### Give your query in natural language."
      ],
      "metadata": {
        "id": "2rMF5ZoxFjbm"
      }
    },
    {
      "cell_type": "code",
      "source": [
        "question = input(\"Input your question: \")\n",
        "sql_query = get_gemini_response(question, prompt)"
      ],
      "metadata": {
        "colab": {
          "base_uri": "https://localhost:8080/"
        },
        "id": "VRYabifWBTef",
        "outputId": "66c7f01b-72e2-45fc-8bcd-6cf9b411165b"
      },
      "execution_count": 24,
      "outputs": [
        {
          "name": "stdout",
          "output_type": "stream",
          "text": [
            "Input your question: How many students in database?\n"
          ]
        }
      ]
    },
    {
      "cell_type": "code",
      "source": [
        "print(\"\\nGenerated SQL Query:\")\n",
        "print(sql_query)"
      ],
      "metadata": {
        "colab": {
          "base_uri": "https://localhost:8080/"
        },
        "id": "m2QVATbrBiWe",
        "outputId": "2cec6527-6005-44d5-e4b8-180f10256f52"
      },
      "execution_count": 25,
      "outputs": [
        {
          "output_type": "stream",
          "name": "stdout",
          "text": [
            "\n",
            "Generated SQL Query:\n",
            "SELECT COUNT(*) FROM STUDENT;\n"
          ]
        }
      ]
    },
    {
      "cell_type": "markdown",
      "source": [
        "### Returns result from database"
      ],
      "metadata": {
        "id": "QVcPkJ2jFpIi"
      }
    },
    {
      "cell_type": "code",
      "source": [
        "results = read_sql_query(sql_query, \"student.db\")\n",
        "\n",
        "print(\"\\nThe Response is:\")\n",
        "for row in results:\n",
        "    print(row)"
      ],
      "metadata": {
        "colab": {
          "base_uri": "https://localhost:8080/"
        },
        "id": "kDm48INCCVd7",
        "outputId": "5f5c964a-5f35-4fef-b111-988ee051c01f"
      },
      "execution_count": 26,
      "outputs": [
        {
          "output_type": "stream",
          "name": "stdout",
          "text": [
            "\n",
            "The Response is:\n",
            "(4,)\n"
          ]
        }
      ]
    },
    {
      "cell_type": "markdown",
      "source": [
        "# Deploy using Gradio"
      ],
      "metadata": {
        "id": "Trev0cbpY98b"
      }
    },
    {
      "cell_type": "code",
      "source": [
        "def process_query(user_question):\n",
        "    if not user_question.strip():\n",
        "        return \"Please enter a question.\"\n",
        "\n",
        "    try:\n",
        "        # Generate SQL query\n",
        "        sql_query = get_gemini_response(user_question, prompt)\n",
        "\n",
        "        # Execute query\n",
        "        results = read_sql_query(sql_query, \"student.db\")\n",
        "\n",
        "        # Format output\n",
        "        output = \"\"\n",
        "\n",
        "        if results:\n",
        "            for row in results:\n",
        "                output += f\"{row}\\n\"\n",
        "        else:\n",
        "            output += \"No results found.\"\n",
        "\n",
        "        return output\n",
        "\n",
        "    except Exception as e:\n",
        "        return f\"Error: {str(e)}\""
      ],
      "metadata": {
        "id": "fuoLj929bGrm"
      },
      "execution_count": 30,
      "outputs": []
    },
    {
      "cell_type": "code",
      "source": [
        "iface = gr.Interface(\n",
        "    fn=process_query,\n",
        "    inputs=gr.Textbox(\n",
        "        label=\"Ask a question about the student database\",\n",
        "        placeholder=\"e.g., How many students in section A?\",\n",
        "        lines=2\n",
        "    ),\n",
        "    outputs=gr.Textbox(label=\"Response\", lines=10),\n",
        "    title=\"🗄️ Text to SQL Agent\",\n",
        "    description=\"Ask questions about the student database in natural language. The database contains NAME, CLASS, and SECTION columns.\",\n",
        "    examples=[\n",
        "        [\"How many students are there?\"],\n",
        "        [\"Show all students in Data Science class\"],\n",
        "        [\"How many students in section A?\"],\n",
        "        [\"List all students in section B\"]\n",
        "    ]\n",
        ")"
      ],
      "metadata": {
        "id": "gVXafKS3Cb9R"
      },
      "execution_count": 31,
      "outputs": []
    },
    {
      "cell_type": "code",
      "source": [
        "iface.launch(share=True)"
      ],
      "metadata": {
        "colab": {
          "base_uri": "https://localhost:8080/",
          "height": 611
        },
        "id": "EAO3zCzsZBSP",
        "outputId": "9478753b-47ff-4e36-c2a1-af77654c366b"
      },
      "execution_count": 32,
      "outputs": [
        {
          "output_type": "stream",
          "name": "stdout",
          "text": [
            "Colab notebook detected. To show errors in colab notebook, set debug=True in launch()\n",
            "* Running on public URL: https://4040d6db9205058f54.gradio.live\n",
            "\n",
            "This share link expires in 1 week. For free permanent hosting and GPU upgrades, run `gradio deploy` from the terminal in the working directory to deploy to Hugging Face Spaces (https://huggingface.co/spaces)\n"
          ]
        },
        {
          "output_type": "display_data",
          "data": {
            "text/plain": [
              "<IPython.core.display.HTML object>"
            ],
            "text/html": [
              "<div><iframe src=\"https://4040d6db9205058f54.gradio.live\" width=\"100%\" height=\"500\" allow=\"autoplay; camera; microphone; clipboard-read; clipboard-write;\" frameborder=\"0\" allowfullscreen></iframe></div>"
            ]
          },
          "metadata": {}
        },
        {
          "output_type": "execute_result",
          "data": {
            "text/plain": []
          },
          "metadata": {},
          "execution_count": 32
        }
      ]
    },
    {
      "cell_type": "code",
      "source": [],
      "metadata": {
        "id": "h26qYnhwZxye"
      },
      "execution_count": null,
      "outputs": []
    }
  ]
}