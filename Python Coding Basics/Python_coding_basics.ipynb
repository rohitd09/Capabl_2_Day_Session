{
  "nbformat": 4,
  "nbformat_minor": 0,
  "metadata": {
    "colab": {
      "provenance": []
    },
    "kernelspec": {
      "name": "python3",
      "display_name": "Python 3"
    },
    "language_info": {
      "name": "python"
    }
  },
  "cells": [
    {
      "cell_type": "markdown",
      "source": [
        "# Variables"
      ],
      "metadata": {
        "id": "UenmoaG0nOLp"
      }
    },
    {
      "cell_type": "code",
      "execution_count": 5,
      "metadata": {
        "id": "-yPqDHuAnKKb"
      },
      "outputs": [],
      "source": [
        "n: int = ... # Your Roll No\n",
        "s: str = ... # Your Name\n",
        "f: float = ... # Your marks out of 10\n",
        "b: bool = ... # Did you pass?"
      ]
    },
    {
      "cell_type": "code",
      "source": [
        "print(f\"Roll No: {n} || Name: {s} || Marks: {f} / 10 || Pass: {b}\")"
      ],
      "metadata": {
        "colab": {
          "base_uri": "https://localhost:8080/"
        },
        "id": "9yjibnsPoWcX",
        "outputId": "97ef1d56-2b55-49d6-da15-3444e60f02e3"
      },
      "execution_count": 7,
      "outputs": [
        {
          "output_type": "stream",
          "name": "stdout",
          "text": [
            "Roll No: 1 || Name: John Does || Marks: 9.3 / 10 || Pass: True\n"
          ]
        }
      ]
    },
    {
      "cell_type": "markdown",
      "source": [
        "# Python Data Types"
      ],
      "metadata": {
        "id": "R9rrHs94nQLM"
      }
    },
    {
      "cell_type": "code",
      "source": [
        "list_1 = 1, 2, 3, 4, 5   # Complete the code to create a list\n",
        "tuple_2 = 1, 2, 3, 4, 5  # Complete the code to create a tuple\n",
        "set_3 = 1, 2, 3, 4, 5    # Complete the code to create a set\n",
        "dict_4 = 1, 2, 3, 4, 5   # Complete the code to create a dictionary"
      ],
      "metadata": {
        "id": "_n-ki1h1nSEZ"
      },
      "execution_count": 12,
      "outputs": []
    },
    {
      "cell_type": "code",
      "source": [
        "print(list_1, type(list_1))\n",
        "print(tuple_2, type(tuple_2))\n",
        "print(set_3, type(set_3))\n",
        "print(dict_4, type(dict_4))"
      ],
      "metadata": {
        "colab": {
          "base_uri": "https://localhost:8080/"
        },
        "id": "qbK-hnqKpO2f",
        "outputId": "14abb161-b6d8-4c49-d5b3-92071029c304"
      },
      "execution_count": 13,
      "outputs": [
        {
          "output_type": "stream",
          "name": "stdout",
          "text": [
            "[1, 2, 3, 4, 5] <class 'list'>\n",
            "(1, 2, 3, 4, 5) <class 'tuple'>\n",
            "{1, 2, 3, 4, 5} <class 'set'>\n",
            "{'One': 1, 'Two': 2, 'Three': 3, 'Four': 4, 'Five': 5} <class 'dict'>\n"
          ]
        }
      ]
    },
    {
      "cell_type": "markdown",
      "source": [
        "# Conditional Statements"
      ],
      "metadata": {
        "id": "43Ub5ESOnSgE"
      }
    },
    {
      "cell_type": "code",
      "source": [
        "n = 10"
      ],
      "metadata": {
        "id": "IFRcDNg8nUvJ"
      },
      "execution_count": 14,
      "outputs": []
    },
    {
      "cell_type": "code",
      "source": [
        "if ...:                                       # Write the conditional logic\n",
        "  print(\"n is less than 10\")\n",
        "else:\n",
        "  print(\"n is greater than or equal to 10\")"
      ],
      "metadata": {
        "colab": {
          "base_uri": "https://localhost:8080/"
        },
        "id": "g5ON7Sp-p3dq",
        "outputId": "9fb196db-57ca-4e78-af21-2ff72e4c74c5"
      },
      "execution_count": 15,
      "outputs": [
        {
          "output_type": "stream",
          "name": "stdout",
          "text": [
            "n is greater than or equal to 10\n"
          ]
        }
      ]
    },
    {
      "cell_type": "markdown",
      "source": [
        "# Loops"
      ],
      "metadata": {
        "id": "bW7H5qQ5nVHo"
      }
    },
    {
      "cell_type": "markdown",
      "source": [
        "### For loops"
      ],
      "metadata": {
        "id": "V5PY7VnaqIga"
      }
    },
    {
      "cell_type": "code",
      "source": [
        "for ...:                  # Write the loop logic\n",
        "  if i % 2 == 0:\n",
        "    print(f\"Even: {i}\")\n",
        "  else:\n",
        "    print(f\"Odd: {i}\")"
      ],
      "metadata": {
        "colab": {
          "base_uri": "https://localhost:8080/"
        },
        "id": "bYwEhVjanX95",
        "outputId": "5e77b6df-6696-4419-c263-11d98b708428"
      },
      "execution_count": 18,
      "outputs": [
        {
          "output_type": "stream",
          "name": "stdout",
          "text": [
            "Even: 0\n",
            "Odd: 1\n",
            "Even: 2\n",
            "Odd: 3\n",
            "Even: 4\n",
            "Odd: 5\n",
            "Even: 6\n",
            "Odd: 7\n",
            "Even: 8\n",
            "Odd: 9\n"
          ]
        }
      ]
    },
    {
      "cell_type": "markdown",
      "source": [
        "### While loops"
      ],
      "metadata": {
        "id": "x7u0J_Wdqn4V"
      }
    },
    {
      "cell_type": "code",
      "source": [
        "n: int = 1\n",
        "\n",
        "while n <= 10:                    # Find the error in the while statement and fix it\n",
        "  # Find errors from here\n",
        "  print(f\"{n}^2 = {n * n}\")\n",
        ""
      ],
      "metadata": {
        "colab": {
          "base_uri": "https://localhost:8080/"
        },
        "id": "LiDhfPIwqp3Z",
        "outputId": "b1a64bf8-56ff-4d5b-d085-db1c693c06b2"
      },
      "execution_count": 21,
      "outputs": [
        {
          "output_type": "stream",
          "name": "stdout",
          "text": [
            "1^2 = 1\n",
            "2^2 = 4\n",
            "3^2 = 9\n",
            "4^2 = 16\n",
            "5^2 = 25\n",
            "6^2 = 36\n",
            "7^2 = 49\n",
            "8^2 = 64\n",
            "9^2 = 81\n",
            "10^2 = 100\n"
          ]
        }
      ]
    },
    {
      "cell_type": "markdown",
      "source": [
        "# Functions"
      ],
      "metadata": {
        "id": "K5jy4_FXnZn6"
      }
    },
    {
      "cell_type": "code",
      "source": [
        "def summation(a: int, b: int) -> int:\n",
        "  return a + b\n",
        "\n",
        "def subtraction(a: int, b: int) -> int:\n",
        "  return a - b\n",
        "\n",
        "print(...(1, 2))  # Test the summation function\n",
        "print(...(5, 3))  # Test the subtraction function"
      ],
      "metadata": {
        "colab": {
          "base_uri": "https://localhost:8080/"
        },
        "id": "tQYIi3nZneX5",
        "outputId": "c02b2dec-9fdf-49dc-9e31-575030e4988f"
      },
      "execution_count": 22,
      "outputs": [
        {
          "output_type": "stream",
          "name": "stdout",
          "text": [
            "3\n",
            "2\n"
          ]
        }
      ]
    },
    {
      "cell_type": "markdown",
      "source": [
        "# Args and kwargs"
      ],
      "metadata": {
        "id": "iyBvu3R6nfTI"
      }
    },
    {
      "cell_type": "code",
      "source": [
        "def summation(*args):\n",
        "  return sum(...)  # Return the sum of tuple\n",
        "\n",
        "print(...(1, 2, 3, 4, 5)) # Test the summation function"
      ],
      "metadata": {
        "colab": {
          "base_uri": "https://localhost:8080/"
        },
        "id": "WKJ3OjZNni15",
        "outputId": "088e9396-634b-4753-b2a0-bcbd92e0cf25"
      },
      "execution_count": 23,
      "outputs": [
        {
          "output_type": "stream",
          "name": "stdout",
          "text": [
            "15\n"
          ]
        }
      ]
    },
    {
      "cell_type": "code",
      "source": [
        "def my_info(**kwargs):\n",
        "  print(f\"Name: {kwargs['name']}\")\n",
        "  print(f\"Age: {kwargs['age']}\")\n",
        "\n",
        "my_info(...) # Pass the right values on to the function"
      ],
      "metadata": {
        "colab": {
          "base_uri": "https://localhost:8080/"
        },
        "id": "tBu6s6pnsHwY",
        "outputId": "7d51bf22-b664-41a0-ca6f-fa48ccf29ee2"
      },
      "execution_count": 24,
      "outputs": [
        {
          "output_type": "stream",
          "name": "stdout",
          "text": [
            "Name: John\n",
            "Age: 30\n"
          ]
        }
      ]
    },
    {
      "cell_type": "markdown",
      "source": [
        "# Decorators"
      ],
      "metadata": {
        "id": "noy64zHcnjU8"
      }
    },
    {
      "cell_type": "code",
      "source": [
        "def decorator(func):\n",
        "  def wrapper(*args, **kwargs):\n",
        "    print(\"Before the function\")\n",
        "    result = func(*args, **kwargs)\n",
        "    print(\"After the function\")\n",
        "    return result\n",
        "  return wrapper\n",
        "\n",
        "\n",
        "def say_hello(name):         # Add a deorator to this function\n",
        "  print(f\"Hello, {name}\")\n",
        "\n",
        "say_hello(\"John\")"
      ],
      "metadata": {
        "colab": {
          "base_uri": "https://localhost:8080/"
        },
        "id": "m8Czr6Rcnk9I",
        "outputId": "0b035a8b-d67f-4d6d-f711-beb722ceac9d"
      },
      "execution_count": 26,
      "outputs": [
        {
          "output_type": "stream",
          "name": "stdout",
          "text": [
            "Before the function\n",
            "Hello, John\n",
            "After the function\n"
          ]
        }
      ]
    },
    {
      "cell_type": "markdown",
      "source": [
        "# Classes (Object Oriented Programming)"
      ],
      "metadata": {
        "id": "0jSCK8WNn1GW"
      }
    },
    {
      "cell_type": "code",
      "source": [
        "class Maths:\n",
        "  def __init__(self, a, b):\n",
        "    self.a = a\n",
        "    self.b = b\n",
        "\n",
        "  def summation(self):\n",
        "    return self.a + self.b\n",
        "\n",
        "  def subtraction(self):\n",
        "    return self.a - self.b\n",
        "\n",
        "  def division(self):\n",
        "    return self.a // self.b\n",
        "\n",
        "  def multiplication(self):\n",
        "    return self.a * self.b\n",
        "\n",
        "math_obj = ... # Create an object for the class\n",
        "\n",
        "print(f\"Summation: {math_obj.summation()}\")\n",
        "print(f\"Subtraction: {math_obj.subtraction()}\")\n",
        "print(f\"Division: {math_obj.division()}\")\n",
        "print(f\"Multiplication: {math_obj.multiplication()}\")"
      ],
      "metadata": {
        "colab": {
          "base_uri": "https://localhost:8080/"
        },
        "id": "HI_TKFWRn4PZ",
        "outputId": "8b4c860a-7a16-4c85-84ba-f2c7fa234e21"
      },
      "execution_count": 29,
      "outputs": [
        {
          "output_type": "stream",
          "name": "stdout",
          "text": [
            "Summation: 15\n",
            "Subtraction: 5\n",
            "Division: 2\n",
            "Multiplication: 50\n"
          ]
        }
      ]
    }
  ]
}