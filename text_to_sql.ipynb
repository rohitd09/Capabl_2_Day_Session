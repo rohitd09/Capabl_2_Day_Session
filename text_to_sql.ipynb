{
  "nbformat": 4,
  "nbformat_minor": 0,
  "metadata": {
    "colab": {
      "provenance": []
    },
    "kernelspec": {
      "name": "python3",
      "display_name": "Python 3"
    },
    "language_info": {
      "name": "python"
    }
  },
  "cells": [
    {
      "cell_type": "markdown",
      "source": [
        "# 🗄️Text to SQL Agent\n",
        "\n",
        "In this notebook, we'll make an AI agent to interact with your SQL database using LLMs, google's gemini in particular\n",
        "\n",
        "Your takeaway:\n",
        "1. Learn to interact with SQL using python.\n",
        "2. Create an AI Agent __without__ langchain, but using gemini directly.\n",
        "3. Learn how to let your AI agent interact with SQL, so you can use your database in normal english language."
      ],
      "metadata": {
        "id": "OKEO69WkDbPn"
      }
    },
    {
      "cell_type": "markdown",
      "source": [
        "## ⚙️ Import Dependencies\n",
        "\n",
        "We will not be using langchain in this mini-project. We'll use google library directly and also import sqlite3 for our database setup."
      ],
      "metadata": {
        "id": "dmxfUaPiEYXI"
      }
    },
    {
      "cell_type": "code",
      "execution_count": 3,
      "metadata": {
        "id": "3yE_NI5fAfKn"
      },
      "outputs": [],
      "source": [
        "import sqlite3\n",
        "from google import genai"
      ]
    },
    {
      "cell_type": "code",
      "source": [
        "from google.colab import userdata\n",
        "API_KEY=userdata.get('GEMINI_API_KEY')"
      ],
      "metadata": {
        "id": "i_NKJ_XNAkXQ"
      },
      "execution_count": 4,
      "outputs": []
    },
    {
      "cell_type": "markdown",
      "source": [
        "### Configure the gemini api using the appropriate API Key."
      ],
      "metadata": {
        "id": "3s4WFj5IE7-u"
      }
    },
    {
      "cell_type": "code",
      "source": [
        "client = genai.Client(api_key=API_KEY)"
      ],
      "metadata": {
        "id": "12Uikgz2BH4P"
      },
      "execution_count": 5,
      "outputs": []
    },
    {
      "cell_type": "markdown",
      "source": [
        "### To generate a SQL query from gemini"
      ],
      "metadata": {
        "id": "XN0MwuTQFG9t"
      }
    },
    {
      "cell_type": "code",
      "source": [
        "def get_gemini_response(question, prompt):\n",
        "    response = client.models.generate_content(\n",
        "        model=\"gemini-2.5-flash\",  # Latest fast model\n",
        "        contents=[prompt[0], question]\n",
        "    )\n",
        "    return response.text.strip()"
      ],
      "metadata": {
        "id": "L7BbwrzSBMKv"
      },
      "execution_count": 6,
      "outputs": []
    },
    {
      "cell_type": "markdown",
      "source": [
        "### To execute the query given by gemini and return the response"
      ],
      "metadata": {
        "id": "z8kelp5SFKJi"
      }
    },
    {
      "cell_type": "code",
      "source": [
        "def read_sql_query(sql, db):\n",
        "    try:\n",
        "        conn = sqlite3.connect(db)\n",
        "        cur = conn.cursor()\n",
        "        cur.execute(sql)\n",
        "        rows = cur.fetchall()\n",
        "        conn.close()\n",
        "        return rows\n",
        "    except sqlite3.Error as e:\n",
        "        return [f\"SQL Error: {e}\"]"
      ],
      "metadata": {
        "id": "dcXVM4o4BOc_"
      },
      "execution_count": 7,
      "outputs": []
    },
    {
      "cell_type": "markdown",
      "source": [
        "### Add dummy data to Student table in student.db"
      ],
      "metadata": {
        "id": "V8k9DnKGFWbH"
      }
    },
    {
      "cell_type": "code",
      "source": [
        "def create_student_db():\n",
        "    conn = sqlite3.connect('student.db')\n",
        "    cursor = conn.cursor()\n",
        "\n",
        "    cursor.execute('''\n",
        "    CREATE TABLE IF NOT EXISTS STUDENT (\n",
        "        NAME TEXT NOT NULL,\n",
        "        CLASS TEXT NOT NULL,\n",
        "        SECTION TEXT NOT NULL\n",
        "    )\n",
        "    ''')\n",
        "\n",
        "    students = [\n",
        "        ('Alice', 'Data Science', 'A'),\n",
        "        ('Bob', 'Computer Science', 'B'),\n",
        "        ('Charlie', 'Data Science', 'B'),\n",
        "        ('David', 'Mathematics', 'A')\n",
        "    ]\n",
        "\n",
        "    cursor.executemany('INSERT INTO STUDENT (NAME, CLASS, SECTION) VALUES (?, ?, ?)', students)\n",
        "\n",
        "    conn.commit()\n",
        "    conn.close()\n",
        "    print(\"student.db created with STUDENT table and example data.\")"
      ],
      "metadata": {
        "id": "DFFr3VNWCu8v"
      },
      "execution_count": 13,
      "outputs": []
    },
    {
      "cell_type": "markdown",
      "source": [
        "### Prompt to generate the query (few-shot prompting)."
      ],
      "metadata": {
        "id": "oMpRZoiRFch7"
      }
    },
    {
      "cell_type": "code",
      "source": [
        "prompt = [\n",
        "    \"\"\"\n",
        "    You are an expert in converting English questions to SQL query!\n",
        "    The SQL database has the name STUDENT and has the following columns:\n",
        "    NAME, CLASS, SECTION.\n",
        "\n",
        "    Example 1 - How many entries of records are present?\n",
        "    SQL: SELECT COUNT(*) FROM STUDENT;\n",
        "\n",
        "    Example 2 - Tell me all the students studying in Data Science class?\n",
        "    SQL: SELECT * FROM STUDENT WHERE CLASS=\"Data Science\";\n",
        "\n",
        "    Rules:\n",
        "    - Only output valid SQL\n",
        "    - Do NOT include ``` or 'sql' markers\n",
        "    - SQL should be ready to run directly\n",
        "    \"\"\"\n",
        "]"
      ],
      "metadata": {
        "id": "HEZ9nzhbBP8v"
      },
      "execution_count": 9,
      "outputs": []
    },
    {
      "cell_type": "code",
      "source": [
        "create_student_db()"
      ],
      "metadata": {
        "colab": {
          "base_uri": "https://localhost:8080/"
        },
        "id": "jwfmuMoEC1u6",
        "outputId": "cdde4828-252f-4289-80b5-db5ec8afea92"
      },
      "execution_count": 14,
      "outputs": [
        {
          "output_type": "stream",
          "name": "stdout",
          "text": [
            "student.db created with STUDENT table and example data.\n"
          ]
        }
      ]
    },
    {
      "cell_type": "markdown",
      "source": [
        "### Give your query in natural language."
      ],
      "metadata": {
        "id": "2rMF5ZoxFjbm"
      }
    },
    {
      "cell_type": "code",
      "source": [
        "question = input(\"Input your question: \")\n",
        "sql_query = get_gemini_response(question, prompt)"
      ],
      "metadata": {
        "colab": {
          "base_uri": "https://localhost:8080/"
        },
        "id": "VRYabifWBTef",
        "outputId": "a1fac890-492e-4115-c99e-12f858fac45c"
      },
      "execution_count": 21,
      "outputs": [
        {
          "name": "stdout",
          "output_type": "stream",
          "text": [
            "Input your question: How many students in section A?\n"
          ]
        }
      ]
    },
    {
      "cell_type": "code",
      "source": [
        "print(\"\\nGenerated SQL Query:\")\n",
        "print(sql_query)"
      ],
      "metadata": {
        "colab": {
          "base_uri": "https://localhost:8080/"
        },
        "id": "m2QVATbrBiWe",
        "outputId": "6eb4be6e-0a5f-41be-910f-c429677b2a35"
      },
      "execution_count": 22,
      "outputs": [
        {
          "output_type": "stream",
          "name": "stdout",
          "text": [
            "\n",
            "Generated SQL Query:\n",
            "SELECT COUNT(*) FROM STUDENT WHERE SECTION = \"A\";\n"
          ]
        }
      ]
    },
    {
      "cell_type": "markdown",
      "source": [
        "### Returns result from database"
      ],
      "metadata": {
        "id": "QVcPkJ2jFpIi"
      }
    },
    {
      "cell_type": "code",
      "source": [
        "results = read_sql_query(sql_query, \"student.db\")\n",
        "\n",
        "print(\"\\nThe Response is:\")\n",
        "for row in results:\n",
        "    print(row)"
      ],
      "metadata": {
        "colab": {
          "base_uri": "https://localhost:8080/"
        },
        "id": "kDm48INCCVd7",
        "outputId": "cd5fe08f-0dbc-4925-e2b4-85f7563bb0a0"
      },
      "execution_count": 23,
      "outputs": [
        {
          "output_type": "stream",
          "name": "stdout",
          "text": [
            "\n",
            "The Response is:\n",
            "(2,)\n"
          ]
        }
      ]
    },
    {
      "cell_type": "code",
      "source": [],
      "metadata": {
        "id": "gVXafKS3Cb9R"
      },
      "execution_count": null,
      "outputs": []
    }
  ]
}