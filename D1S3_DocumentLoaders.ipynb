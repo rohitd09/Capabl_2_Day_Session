{
  "nbformat": 4,
  "nbformat_minor": 0,
  "metadata": {
    "colab": {
      "provenance": []
    },
    "kernelspec": {
      "name": "python3",
      "display_name": "Python 3"
    },
    "language_info": {
      "name": "python"
    }
  },
  "cells": [
    {
      "cell_type": "markdown",
      "source": [
        "# 📄 Session 3: Document Loaders in LangChain (Groq + v3)\n",
        "\n",
        "**Objective:**  \n",
        "Learn how to load and inspect documents (PDFs) in LangChain using `PyPDFLoader`.  \n",
        "\n",
        "**Why This Matters:**  \n",
        "- First step in RAG: converting unstructured files (PDFs) into structured text.  \n",
        "- Metadata helps in filtering and contextual retrieval later.  \n"
      ],
      "metadata": {
        "id": "t4IJV05x4RkC"
      }
    },
    {
      "cell_type": "markdown",
      "source": [
        "## ✅ Step 1: Install Required Libraries\n",
        "We’ll use:\n",
        "- **LangChain v3**  \n",
        "- **LangChain Groq** (for future steps)  \n",
        "- **pypdf** (PDF parsing)  \n"
      ],
      "metadata": {
        "id": "R0LdFe5x4bMH"
      }
    },
    {
      "cell_type": "code",
      "execution_count": 1,
      "metadata": {
        "colab": {
          "base_uri": "https://localhost:8080/"
        },
        "id": "yJxU_-l64KfL",
        "outputId": "5f76a4f9-a9f6-4b34-8960-839ccf1bf0e5"
      },
      "outputs": [
        {
          "output_type": "stream",
          "name": "stdout",
          "text": [
            "\u001b[?25l   \u001b[90m━━━━━━━━━━━━━━━━━━━━━━━━━━━━━━━━━━━━━━━━\u001b[0m \u001b[32m0.0/323.5 kB\u001b[0m \u001b[31m?\u001b[0m eta \u001b[36m-:--:--\u001b[0m\r\u001b[2K   \u001b[91m━━━━━━━━━━━━━━━━━━━━━━━━━━━━━━━━━━━━━━━\u001b[0m\u001b[90m╺\u001b[0m \u001b[32m317.4/323.5 kB\u001b[0m \u001b[31m14.4 MB/s\u001b[0m eta \u001b[36m0:00:01\u001b[0m\r\u001b[2K   \u001b[90m━━━━━━━━━━━━━━━━━━━━━━━━━━━━━━━━━━━━━━━━\u001b[0m \u001b[32m323.5/323.5 kB\u001b[0m \u001b[31m6.4 MB/s\u001b[0m eta \u001b[36m0:00:00\u001b[0m\n",
            "\u001b[2K   \u001b[90m━━━━━━━━━━━━━━━━━━━━━━━━━━━━━━━━━━━━━━━━\u001b[0m \u001b[32m2.5/2.5 MB\u001b[0m \u001b[31m27.5 MB/s\u001b[0m eta \u001b[36m0:00:00\u001b[0m\n",
            "\u001b[2K   \u001b[90m━━━━━━━━━━━━━━━━━━━━━━━━━━━━━━━━━━━━━━━━\u001b[0m \u001b[32m135.4/135.4 kB\u001b[0m \u001b[31m7.1 MB/s\u001b[0m eta \u001b[36m0:00:00\u001b[0m\n",
            "\u001b[2K   \u001b[90m━━━━━━━━━━━━━━━━━━━━━━━━━━━━━━━━━━━━━━━━\u001b[0m \u001b[32m64.7/64.7 kB\u001b[0m \u001b[31m1.8 MB/s\u001b[0m eta \u001b[36m0:00:00\u001b[0m\n",
            "\u001b[2K   \u001b[90m━━━━━━━━━━━━━━━━━━━━━━━━━━━━━━━━━━━━━━━━\u001b[0m \u001b[32m50.9/50.9 kB\u001b[0m \u001b[31m1.6 MB/s\u001b[0m eta \u001b[36m0:00:00\u001b[0m\n",
            "\u001b[?25h\u001b[31mERROR: pip's dependency resolver does not currently take into account all the packages that are installed. This behaviour is the source of the following dependency conflicts.\n",
            "google-colab 1.0.0 requires requests==2.32.4, but you have requests 2.32.5 which is incompatible.\u001b[0m\u001b[31m\n",
            "\u001b[0m"
          ]
        }
      ],
      "source": [
        "!pip install -q langchain==0.3.* langchain-groq pypdf langchain_community\n"
      ]
    },
    {
      "cell_type": "markdown",
      "source": [
        "## ✅ Step 2: Setup Groq API Key\n",
        "We’ll again use Colab **Secrets Manager**.\n"
      ],
      "metadata": {
        "id": "79TLnN9l4gOE"
      }
    },
    {
      "cell_type": "markdown",
      "source": [],
      "metadata": {
        "id": "ObdX5irf4efQ"
      }
    },
    {
      "cell_type": "code",
      "source": [
        "from google.colab import userdata\n",
        "\n",
        "# Load Groq API key\n",
        "GROQ_API_KEY = userdata.get('GROQ_API_KEY')\n",
        "\n",
        "if GROQ_API_KEY:\n",
        "    print(\"✅ Groq API key retrieved!\")\n",
        "else:\n",
        "    print(\"❌ Please add GROQ_API_KEY in Colab Secrets.\")\n"
      ],
      "metadata": {
        "colab": {
          "base_uri": "https://localhost:8080/"
        },
        "id": "TwXbsv8C4k-9",
        "outputId": "9e04e457-d64e-4e6a-bce2-e56a4aeeead9"
      },
      "execution_count": 2,
      "outputs": [
        {
          "output_type": "stream",
          "name": "stdout",
          "text": [
            "✅ Groq API key retrieved!\n"
          ]
        }
      ]
    },
    {
      "cell_type": "markdown",
      "source": [
        "## ✅ Step 3: Load a PDF with PyPDFLoader\n",
        "We’ll use `PyPDFLoader` from LangChain community loaders.  \n",
        "Make sure to upload a sample PDF (like `scholarship_info.pdf`) to Colab first.  \n"
      ],
      "metadata": {
        "id": "7F_4uFjU4p5s"
      }
    },
    {
      "cell_type": "code",
      "source": [
        "from langchain_community.document_loaders import PyPDFLoader\n",
        "\n",
        "# Replace with your uploaded file path in Colab\n",
        "pdf_path = \"/content/scholarship_info.pdf\"\n",
        "\n",
        "loader = PyPDFLoader(pdf_path)\n",
        "docs = loader.load()\n",
        "\n",
        "print(f\"✅ Loaded {len(docs)} documents (pages).\")\n"
      ],
      "metadata": {
        "colab": {
          "base_uri": "https://localhost:8080/"
        },
        "id": "fsQUjwBv4oNs",
        "outputId": "15a1827a-8bcd-4f48-f85f-a7a58d51874f"
      },
      "execution_count": 4,
      "outputs": [
        {
          "output_type": "stream",
          "name": "stdout",
          "text": [
            "✅ Loaded 1 documents (pages).\n"
          ]
        }
      ]
    },
    {
      "cell_type": "markdown",
      "source": [
        "## ✅ Step 4: Inspect Loaded Documents\n",
        "Let’s look at the **first page** text and metadata.\n"
      ],
      "metadata": {
        "id": "u1GQ4KJi7KrB"
      }
    },
    {
      "cell_type": "code",
      "source": [
        "print(\"Sample Document Object:\\n\")\n",
        "print(docs[0])\n",
        "\n",
        "print(\"\\nMetadata of first page:\\n\", docs[0].metadata)\n",
        "print(\"\\nText Content of first page:\\n\", docs[0].page_content[:500])\n"
      ],
      "metadata": {
        "id": "-vaG2eCv7L0d",
        "outputId": "3ab53240-54be-4e01-aff6-bd7db4327a7a",
        "colab": {
          "base_uri": "https://localhost:8080/"
        }
      },
      "execution_count": 5,
      "outputs": [
        {
          "output_type": "stream",
          "name": "stdout",
          "text": [
            "Sample Document Object:\n",
            "\n",
            "page_content='Title: Scholarship Information 2025 \n",
            " \n",
            "1. Eligibility: \n",
            "- Open to students in India pursuing undergraduate degrees. \n",
            "- Annual family income must be below ₹6,00,000. \n",
            "- Minimum 60% marks in the last qualifying exam. \n",
            " \n",
            "2. Documents Required: \n",
            "- Income certificate \n",
            "- Aadhaar card \n",
            "- Bank passbook \n",
            "- Marksheet \n",
            " \n",
            "3. Deadline: October 15, 2025 \n",
            " \n",
            "4. Benefits: \n",
            "- ₹10,000 per semester for tuition \n",
            "- Book allowance of ₹3,000 per year \n",
            " \n",
            "5. How to Apply: \n",
            "Visit https://scholarships.gov.in and register under the NSP portal.' metadata={'producer': 'Microsoft® Word 2019', 'creator': 'Microsoft® Word 2019', 'creationdate': '2025-08-07T19:16:29+05:30', 'author': 'Preethesh Poojary', 'moddate': '2025-08-07T19:16:29+05:30', 'source': '/content/scholarship_info.pdf', 'total_pages': 1, 'page': 0, 'page_label': '1'}\n",
            "\n",
            "Metadata of first page:\n",
            " {'producer': 'Microsoft® Word 2019', 'creator': 'Microsoft® Word 2019', 'creationdate': '2025-08-07T19:16:29+05:30', 'author': 'Preethesh Poojary', 'moddate': '2025-08-07T19:16:29+05:30', 'source': '/content/scholarship_info.pdf', 'total_pages': 1, 'page': 0, 'page_label': '1'}\n",
            "\n",
            "Text Content of first page:\n",
            " Title: Scholarship Information 2025 \n",
            " \n",
            "1. Eligibility: \n",
            "- Open to students in India pursuing undergraduate degrees. \n",
            "- Annual family income must be below ₹6,00,000. \n",
            "- Minimum 60% marks in the last qualifying exam. \n",
            " \n",
            "2. Documents Required: \n",
            "- Income certificate \n",
            "- Aadhaar card \n",
            "- Bank passbook \n",
            "- Marksheet \n",
            " \n",
            "3. Deadline: October 15, 2025 \n",
            " \n",
            "4. Benefits: \n",
            "- ₹10,000 per semester for tuition \n",
            "- Book allowance of ₹3,000 per year \n",
            " \n",
            "5. How to Apply: \n",
            "Visit https://scholarships.gov.in and register u\n"
          ]
        }
      ]
    },
    {
      "cell_type": "markdown",
      "source": [
        "## ✅ Step 5: Use Groq LLM to Summarize Document\n",
        "Now let’s ask Groq’s **LLaMA-3** model to summarize the first page.  \n"
      ],
      "metadata": {
        "id": "ifbQGpPM7Pt8"
      }
    },
    {
      "cell_type": "code",
      "source": [
        "from langchain_groq import ChatGroq\n",
        "\n",
        "llm = ChatGroq(\n",
        "    model=\"openai/gpt-oss-20b\",\n",
        "    api_key=GROQ_API_KEY,\n",
        "    temperature=0.3,\n",
        "    max_tokens=200\n",
        ")\n",
        "\n",
        "sample_text = docs[0].page_content\n",
        "\n",
        "summary = llm.invoke(f\"Summarize this text in 3 bullet points:\\n\\n{sample_text}\")\n",
        "print(\"Groq LLM Summary:\\n\", summary.content)\n"
      ],
      "metadata": {
        "id": "Wz8WgIJS7Qqp",
        "colab": {
          "base_uri": "https://localhost:8080/"
        },
        "outputId": "761a26a4-924a-4fd8-dd7b-f5185747b8ff"
      },
      "execution_count": 6,
      "outputs": [
        {
          "output_type": "stream",
          "name": "stdout",
          "text": [
            "Groq LLM Summary:\n",
            " - **Eligibility & Requirements**: Open to Indian undergraduates with family income below ₹6,00,000 and at least 60% marks; must submit income certificate, Aadhaar, bank passbook, and marksheet.  \n",
            "- **Benefits**: Receives ₹10,000 per semester toward tuition and a ₹3,000 yearly book allowance.  \n",
            "- **Application Process**: Apply by the October 15, 2025 deadline via the NSP portal at https://scholarships.gov.in.\n"
          ]
        }
      ]
    },
    {
      "cell_type": "markdown",
      "source": [
        "## 📝 Exercise\n",
        "1. Load a different PDF (e.g., your course notes) and extract metadata.  \n",
        "2. Modify the summarization prompt to generate:\n",
        "   - A **title** for the document.  \n",
        "   - A **FAQ-style summary**.  \n",
        "3. Compare results using models:\n",
        "   - `llama3-8b-8192`  \n",
        "   - `mixtral-8x7b-32768`  \n"
      ],
      "metadata": {
        "id": "pEKl03Tj-MIK"
      }
    },
    {
      "cell_type": "markdown",
      "source": [
        "## 🎯 Summary\n",
        "- Learned how to load PDFs using `PyPDFLoader`.  \n",
        "- Explored document objects (content + metadata).  \n",
        "- Used Groq LLM to summarize loaded text.  \n",
        "\n",
        "**Next Notebook → Text Splitting & Preprocessing**  \n"
      ],
      "metadata": {
        "id": "KaIViQAq-RGW"
      }
    }
  ]
}